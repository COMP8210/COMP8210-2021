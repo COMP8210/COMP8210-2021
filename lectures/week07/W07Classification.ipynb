{
 "cells": [
  {
   "cell_type": "markdown",
   "source": [
    "# Data Analysis Pipeline in Python\n",
    "\n",
    "In this notebook we will demonstrate a typical pipeline for data analysis in Python. We will use the following Python packages that are very popular for data analysis and machine learning:\n",
    "\n",
    "* Numpy - for the manipulation of numerical data.\n",
    "* Pandas - for the manipulation of tables.\n",
    "* Scikit-Learn - for machine learning.\n"
   ],
   "metadata": {}
  },
  {
   "cell_type": "code",
   "execution_count": 1,
   "source": [
    "import pandas as pd\n",
    "import numpy as np\n",
    "import sklearn"
   ],
   "outputs": [],
   "metadata": {}
  },
  {
   "cell_type": "markdown",
   "source": [
    "## 1. Develop an understanding of the purpose of the data mining exercise\n",
    "\n",
    "We will use the **Iris data set**. This data set is like the \"hello world\" for machine learning. The data set consists of samples of measures from three kinds of flowers: *iris setosa*, *iris versicolor*, and *iris virginica*. The purpose of our exercise is to learn how to train and evaluate a simple machine learning classifier by using this data set. In particular, we will implement a statistical classifier that will automatically determine the flower given the sample.\n",
    "\n",
    "![setosa](setosa.jpg) ![versicolor](versicolor.jpg) ![virginica](virginica.jpg)\n",
    "\n",
    "## 2. Obtain the data set\n",
    "\n",
    "Normally, obtaining the data set can be costly and time-consuming. In our case, it is given! The data set is available in most machine learning environments. It is of course available in Scikit-learn, but we will pretend it is not. Instead, we will download it from the [UCI Machine Learning Repository](https://archive.ics.uci.edu/ml/datasets/iris). Use the browser to download the following two files.\n",
    "\n",
    "* [iris.data](https://archive.ics.uci.edu/ml/machine-learning-databases/iris/iris.data)\n",
    "* [iris.names](https://archive.ics.uci.edu/ml/machine-learning-databases/iris/iris.names)\n",
    "\n",
    "Alternatively, execute the commands below (the commands below may only work in a Linux machine)."
   ],
   "metadata": {}
  },
  {
   "cell_type": "code",
   "execution_count": 2,
   "source": [
    "!wget https://archive.ics.uci.edu/ml/machine-learning-databases/iris/iris.data"
   ],
   "outputs": [
    {
     "output_type": "stream",
     "name": "stdout",
     "text": [
      "--2021-09-02 17:30:46--  https://archive.ics.uci.edu/ml/machine-learning-databases/iris/iris.data\n",
      "Resolving archive.ics.uci.edu (archive.ics.uci.edu)... 128.195.10.252\n",
      "Connecting to archive.ics.uci.edu (archive.ics.uci.edu)|128.195.10.252|:443... connected.\n",
      "HTTP request sent, awaiting response... 200 OK\n",
      "Length: 4551 (4.4K) [application/x-httpd-php]\n",
      "Saving to: ‘iris.data’\n",
      "\n",
      "iris.data           100%[===================>]   4.44K  --.-KB/s    in 0s      \n",
      "\n",
      "2021-09-02 17:30:47 (14.4 MB/s) - ‘iris.data’ saved [4551/4551]\n",
      "\n"
     ]
    }
   ],
   "metadata": {}
  },
  {
   "cell_type": "code",
   "execution_count": 3,
   "source": [
    "!wget https://archive.ics.uci.edu/ml/machine-learning-databases/iris/iris.names"
   ],
   "outputs": [
    {
     "output_type": "stream",
     "name": "stdout",
     "text": [
      "--2021-09-02 17:30:50--  https://archive.ics.uci.edu/ml/machine-learning-databases/iris/iris.names\n",
      "Resolving archive.ics.uci.edu (archive.ics.uci.edu)... 128.195.10.252\n",
      "Connecting to archive.ics.uci.edu (archive.ics.uci.edu)|128.195.10.252|:443... connected.\n",
      "HTTP request sent, awaiting response... 200 OK\n",
      "Length: 2998 (2.9K) [application/x-httpd-php]\n",
      "Saving to: ‘iris.names’\n",
      "\n",
      "iris.names          100%[===================>]   2.93K  --.-KB/s    in 0s      \n",
      "\n",
      "2021-09-02 17:30:52 (24.6 MB/s) - ‘iris.names’ saved [2998/2998]\n",
      "\n"
     ]
    }
   ],
   "metadata": {}
  },
  {
   "cell_type": "markdown",
   "source": [
    "## 3. Explore, clean, and preprocess\n",
    "\n",
    "The file iris.names describes the data set:"
   ],
   "metadata": {}
  },
  {
   "cell_type": "code",
   "execution_count": 4,
   "source": [
    "cat iris.names"
   ],
   "outputs": [
    {
     "output_type": "stream",
     "name": "stdout",
     "text": [
      "1. Title: Iris Plants Database\n",
      "\tUpdated Sept 21 by C.Blake - Added discrepency information\n",
      "\n",
      "2. Sources:\n",
      "     (a) Creator: R.A. Fisher\n",
      "     (b) Donor: Michael Marshall (MARSHALL%PLU@io.arc.nasa.gov)\n",
      "     (c) Date: July, 1988\n",
      "\n",
      "3. Past Usage:\n",
      "   - Publications: too many to mention!!!  Here are a few.\n",
      "   1. Fisher,R.A. \"The use of multiple measurements in taxonomic problems\"\n",
      "      Annual Eugenics, 7, Part II, 179-188 (1936); also in \"Contributions\n",
      "      to Mathematical Statistics\" (John Wiley, NY, 1950).\n",
      "   2. Duda,R.O., & Hart,P.E. (1973) Pattern Classification and Scene Analysis.\n",
      "      (Q327.D83) John Wiley & Sons.  ISBN 0-471-22361-1.  See page 218.\n",
      "   3. Dasarathy, B.V. (1980) \"Nosing Around the Neighborhood: A New System\n",
      "      Structure and Classification Rule for Recognition in Partially Exposed\n",
      "      Environments\".  IEEE Transactions on Pattern Analysis and Machine\n",
      "      Intelligence, Vol. PAMI-2, No. 1, 67-71.\n",
      "      -- Results:\n",
      "         -- very low misclassification rates (0% for the setosa class)\n",
      "   4. Gates, G.W. (1972) \"The Reduced Nearest Neighbor Rule\".  IEEE \n",
      "      Transactions on Information Theory, May 1972, 431-433.\n",
      "      -- Results:\n",
      "         -- very low misclassification rates again\n",
      "   5. See also: 1988 MLC Proceedings, 54-64.  Cheeseman et al's AUTOCLASS II\n",
      "      conceptual clustering system finds 3 classes in the data.\n",
      "\n",
      "4. Relevant Information:\n",
      "   --- This is perhaps the best known database to be found in the pattern\n",
      "       recognition literature.  Fisher's paper is a classic in the field\n",
      "       and is referenced frequently to this day.  (See Duda & Hart, for\n",
      "       example.)  The data set contains 3 classes of 50 instances each,\n",
      "       where each class refers to a type of iris plant.  One class is\n",
      "       linearly separable from the other 2; the latter are NOT linearly\n",
      "       separable from each other.\n",
      "   --- Predicted attribute: class of iris plant.\n",
      "   --- This is an exceedingly simple domain.\n",
      "   --- This data differs from the data presented in Fishers article\n",
      "\t(identified by Steve Chadwick,  spchadwick@espeedaz.net )\n",
      "\tThe 35th sample should be: 4.9,3.1,1.5,0.2,\"Iris-setosa\"\n",
      "\twhere the error is in the fourth feature.\n",
      "\tThe 38th sample: 4.9,3.6,1.4,0.1,\"Iris-setosa\"\n",
      "\twhere the errors are in the second and third features.  \n",
      "\n",
      "5. Number of Instances: 150 (50 in each of three classes)\n",
      "\n",
      "6. Number of Attributes: 4 numeric, predictive attributes and the class\n",
      "\n",
      "7. Attribute Information:\n",
      "   1. sepal length in cm\n",
      "   2. sepal width in cm\n",
      "   3. petal length in cm\n",
      "   4. petal width in cm\n",
      "   5. class: \n",
      "      -- Iris Setosa\n",
      "      -- Iris Versicolour\n",
      "      -- Iris Virginica\n",
      "\n",
      "8. Missing Attribute Values: None\n",
      "\n",
      "Summary Statistics:\n",
      "\t         Min  Max   Mean    SD   Class Correlation\n",
      "   sepal length: 4.3  7.9   5.84  0.83    0.7826   \n",
      "    sepal width: 2.0  4.4   3.05  0.43   -0.4194\n",
      "   petal length: 1.0  6.9   3.76  1.76    0.9490  (high!)\n",
      "    petal width: 0.1  2.5   1.20  0.76    0.9565  (high!)\n",
      "\n",
      "9. Class Distribution: 33.3% for each of 3 classes.\n"
     ]
    }
   ],
   "metadata": {}
  },
  {
   "cell_type": "markdown",
   "source": [
    "Let's load the data set into a Pandas data frame."
   ],
   "metadata": {}
  },
  {
   "cell_type": "code",
   "execution_count": 5,
   "source": [
    "iris_data = pd.read_csv('iris.data', header=None)"
   ],
   "outputs": [],
   "metadata": {}
  },
  {
   "cell_type": "code",
   "execution_count": 6,
   "source": [
    "iris_data.describe()"
   ],
   "outputs": [
    {
     "output_type": "execute_result",
     "data": {
      "text/plain": [
       "                0           1           2           3\n",
       "count  150.000000  150.000000  150.000000  150.000000\n",
       "mean     5.843333    3.054000    3.758667    1.198667\n",
       "std      0.828066    0.433594    1.764420    0.763161\n",
       "min      4.300000    2.000000    1.000000    0.100000\n",
       "25%      5.100000    2.800000    1.600000    0.300000\n",
       "50%      5.800000    3.000000    4.350000    1.300000\n",
       "75%      6.400000    3.300000    5.100000    1.800000\n",
       "max      7.900000    4.400000    6.900000    2.500000"
      ],
      "text/html": [
       "<div>\n",
       "<style scoped>\n",
       "    .dataframe tbody tr th:only-of-type {\n",
       "        vertical-align: middle;\n",
       "    }\n",
       "\n",
       "    .dataframe tbody tr th {\n",
       "        vertical-align: top;\n",
       "    }\n",
       "\n",
       "    .dataframe thead th {\n",
       "        text-align: right;\n",
       "    }\n",
       "</style>\n",
       "<table border=\"1\" class=\"dataframe\">\n",
       "  <thead>\n",
       "    <tr style=\"text-align: right;\">\n",
       "      <th></th>\n",
       "      <th>0</th>\n",
       "      <th>1</th>\n",
       "      <th>2</th>\n",
       "      <th>3</th>\n",
       "    </tr>\n",
       "  </thead>\n",
       "  <tbody>\n",
       "    <tr>\n",
       "      <th>count</th>\n",
       "      <td>150.000000</td>\n",
       "      <td>150.000000</td>\n",
       "      <td>150.000000</td>\n",
       "      <td>150.000000</td>\n",
       "    </tr>\n",
       "    <tr>\n",
       "      <th>mean</th>\n",
       "      <td>5.843333</td>\n",
       "      <td>3.054000</td>\n",
       "      <td>3.758667</td>\n",
       "      <td>1.198667</td>\n",
       "    </tr>\n",
       "    <tr>\n",
       "      <th>std</th>\n",
       "      <td>0.828066</td>\n",
       "      <td>0.433594</td>\n",
       "      <td>1.764420</td>\n",
       "      <td>0.763161</td>\n",
       "    </tr>\n",
       "    <tr>\n",
       "      <th>min</th>\n",
       "      <td>4.300000</td>\n",
       "      <td>2.000000</td>\n",
       "      <td>1.000000</td>\n",
       "      <td>0.100000</td>\n",
       "    </tr>\n",
       "    <tr>\n",
       "      <th>25%</th>\n",
       "      <td>5.100000</td>\n",
       "      <td>2.800000</td>\n",
       "      <td>1.600000</td>\n",
       "      <td>0.300000</td>\n",
       "    </tr>\n",
       "    <tr>\n",
       "      <th>50%</th>\n",
       "      <td>5.800000</td>\n",
       "      <td>3.000000</td>\n",
       "      <td>4.350000</td>\n",
       "      <td>1.300000</td>\n",
       "    </tr>\n",
       "    <tr>\n",
       "      <th>75%</th>\n",
       "      <td>6.400000</td>\n",
       "      <td>3.300000</td>\n",
       "      <td>5.100000</td>\n",
       "      <td>1.800000</td>\n",
       "    </tr>\n",
       "    <tr>\n",
       "      <th>max</th>\n",
       "      <td>7.900000</td>\n",
       "      <td>4.400000</td>\n",
       "      <td>6.900000</td>\n",
       "      <td>2.500000</td>\n",
       "    </tr>\n",
       "  </tbody>\n",
       "</table>\n",
       "</div>"
      ]
     },
     "metadata": {},
     "execution_count": 6
    }
   ],
   "metadata": {}
  },
  {
   "cell_type": "markdown",
   "source": [
    "The file iris.names tells what column corresponds with what attribute. Let's add this information to the data frame."
   ],
   "metadata": {}
  },
  {
   "cell_type": "code",
   "execution_count": 7,
   "source": [
    "iris_data.columns = ['SepalLength', 'SepalWidth', 'PetalLength', 'PetalWidth', 'Class']\n",
    "iris_data.describe()"
   ],
   "outputs": [
    {
     "output_type": "execute_result",
     "data": {
      "text/plain": [
       "       SepalLength  SepalWidth  PetalLength  PetalWidth\n",
       "count   150.000000  150.000000   150.000000  150.000000\n",
       "mean      5.843333    3.054000     3.758667    1.198667\n",
       "std       0.828066    0.433594     1.764420    0.763161\n",
       "min       4.300000    2.000000     1.000000    0.100000\n",
       "25%       5.100000    2.800000     1.600000    0.300000\n",
       "50%       5.800000    3.000000     4.350000    1.300000\n",
       "75%       6.400000    3.300000     5.100000    1.800000\n",
       "max       7.900000    4.400000     6.900000    2.500000"
      ],
      "text/html": [
       "<div>\n",
       "<style scoped>\n",
       "    .dataframe tbody tr th:only-of-type {\n",
       "        vertical-align: middle;\n",
       "    }\n",
       "\n",
       "    .dataframe tbody tr th {\n",
       "        vertical-align: top;\n",
       "    }\n",
       "\n",
       "    .dataframe thead th {\n",
       "        text-align: right;\n",
       "    }\n",
       "</style>\n",
       "<table border=\"1\" class=\"dataframe\">\n",
       "  <thead>\n",
       "    <tr style=\"text-align: right;\">\n",
       "      <th></th>\n",
       "      <th>SepalLength</th>\n",
       "      <th>SepalWidth</th>\n",
       "      <th>PetalLength</th>\n",
       "      <th>PetalWidth</th>\n",
       "    </tr>\n",
       "  </thead>\n",
       "  <tbody>\n",
       "    <tr>\n",
       "      <th>count</th>\n",
       "      <td>150.000000</td>\n",
       "      <td>150.000000</td>\n",
       "      <td>150.000000</td>\n",
       "      <td>150.000000</td>\n",
       "    </tr>\n",
       "    <tr>\n",
       "      <th>mean</th>\n",
       "      <td>5.843333</td>\n",
       "      <td>3.054000</td>\n",
       "      <td>3.758667</td>\n",
       "      <td>1.198667</td>\n",
       "    </tr>\n",
       "    <tr>\n",
       "      <th>std</th>\n",
       "      <td>0.828066</td>\n",
       "      <td>0.433594</td>\n",
       "      <td>1.764420</td>\n",
       "      <td>0.763161</td>\n",
       "    </tr>\n",
       "    <tr>\n",
       "      <th>min</th>\n",
       "      <td>4.300000</td>\n",
       "      <td>2.000000</td>\n",
       "      <td>1.000000</td>\n",
       "      <td>0.100000</td>\n",
       "    </tr>\n",
       "    <tr>\n",
       "      <th>25%</th>\n",
       "      <td>5.100000</td>\n",
       "      <td>2.800000</td>\n",
       "      <td>1.600000</td>\n",
       "      <td>0.300000</td>\n",
       "    </tr>\n",
       "    <tr>\n",
       "      <th>50%</th>\n",
       "      <td>5.800000</td>\n",
       "      <td>3.000000</td>\n",
       "      <td>4.350000</td>\n",
       "      <td>1.300000</td>\n",
       "    </tr>\n",
       "    <tr>\n",
       "      <th>75%</th>\n",
       "      <td>6.400000</td>\n",
       "      <td>3.300000</td>\n",
       "      <td>5.100000</td>\n",
       "      <td>1.800000</td>\n",
       "    </tr>\n",
       "    <tr>\n",
       "      <th>max</th>\n",
       "      <td>7.900000</td>\n",
       "      <td>4.400000</td>\n",
       "      <td>6.900000</td>\n",
       "      <td>2.500000</td>\n",
       "    </tr>\n",
       "  </tbody>\n",
       "</table>\n",
       "</div>"
      ]
     },
     "metadata": {},
     "execution_count": 7
    }
   ],
   "metadata": {}
  },
  {
   "cell_type": "code",
   "execution_count": 8,
   "source": [
    "iris_data.head()"
   ],
   "outputs": [
    {
     "output_type": "execute_result",
     "data": {
      "text/plain": [
       "   SepalLength  SepalWidth  PetalLength  PetalWidth        Class\n",
       "0          5.1         3.5          1.4         0.2  Iris-setosa\n",
       "1          4.9         3.0          1.4         0.2  Iris-setosa\n",
       "2          4.7         3.2          1.3         0.2  Iris-setosa\n",
       "3          4.6         3.1          1.5         0.2  Iris-setosa\n",
       "4          5.0         3.6          1.4         0.2  Iris-setosa"
      ],
      "text/html": [
       "<div>\n",
       "<style scoped>\n",
       "    .dataframe tbody tr th:only-of-type {\n",
       "        vertical-align: middle;\n",
       "    }\n",
       "\n",
       "    .dataframe tbody tr th {\n",
       "        vertical-align: top;\n",
       "    }\n",
       "\n",
       "    .dataframe thead th {\n",
       "        text-align: right;\n",
       "    }\n",
       "</style>\n",
       "<table border=\"1\" class=\"dataframe\">\n",
       "  <thead>\n",
       "    <tr style=\"text-align: right;\">\n",
       "      <th></th>\n",
       "      <th>SepalLength</th>\n",
       "      <th>SepalWidth</th>\n",
       "      <th>PetalLength</th>\n",
       "      <th>PetalWidth</th>\n",
       "      <th>Class</th>\n",
       "    </tr>\n",
       "  </thead>\n",
       "  <tbody>\n",
       "    <tr>\n",
       "      <th>0</th>\n",
       "      <td>5.1</td>\n",
       "      <td>3.5</td>\n",
       "      <td>1.4</td>\n",
       "      <td>0.2</td>\n",
       "      <td>Iris-setosa</td>\n",
       "    </tr>\n",
       "    <tr>\n",
       "      <th>1</th>\n",
       "      <td>4.9</td>\n",
       "      <td>3.0</td>\n",
       "      <td>1.4</td>\n",
       "      <td>0.2</td>\n",
       "      <td>Iris-setosa</td>\n",
       "    </tr>\n",
       "    <tr>\n",
       "      <th>2</th>\n",
       "      <td>4.7</td>\n",
       "      <td>3.2</td>\n",
       "      <td>1.3</td>\n",
       "      <td>0.2</td>\n",
       "      <td>Iris-setosa</td>\n",
       "    </tr>\n",
       "    <tr>\n",
       "      <th>3</th>\n",
       "      <td>4.6</td>\n",
       "      <td>3.1</td>\n",
       "      <td>1.5</td>\n",
       "      <td>0.2</td>\n",
       "      <td>Iris-setosa</td>\n",
       "    </tr>\n",
       "    <tr>\n",
       "      <th>4</th>\n",
       "      <td>5.0</td>\n",
       "      <td>3.6</td>\n",
       "      <td>1.4</td>\n",
       "      <td>0.2</td>\n",
       "      <td>Iris-setosa</td>\n",
       "    </tr>\n",
       "  </tbody>\n",
       "</table>\n",
       "</div>"
      ]
     },
     "metadata": {},
     "execution_count": 8
    }
   ],
   "metadata": {}
  },
  {
   "cell_type": "markdown",
   "source": [
    "Note that the class column has the name of the flower. There must be three names. Let's check that:"
   ],
   "metadata": {}
  },
  {
   "cell_type": "code",
   "execution_count": 9,
   "source": [
    "set(iris_data.Class)"
   ],
   "outputs": [
    {
     "output_type": "execute_result",
     "data": {
      "text/plain": [
       "{'Iris-setosa', 'Iris-versicolor', 'Iris-virginica'}"
      ]
     },
     "metadata": {},
     "execution_count": 9
    }
   ],
   "metadata": {}
  },
  {
   "cell_type": "markdown",
   "source": [
    "Now, sklearn only accepts integer values. We must convert the names into numbers. For example, `Iris-setosa` has the value 0, `Iris-versicolor` has the value 1, and `Iris-virginia` has the value 2. sklearn provides the function `preprocessing.LabelEncoder`. You can read the documentation here: https://scikit-learn.org/stable/modules/preprocessing_targets.html#preprocessing-targets"
   ],
   "metadata": {}
  },
  {
   "cell_type": "code",
   "execution_count": 10,
   "source": [
    "from sklearn import preprocessing\n",
    "le = preprocessing.LabelEncoder()\n",
    "le.fit(['Iris-setosa', 'Iris-versicolor', 'Iris-virginica'])"
   ],
   "outputs": [
    {
     "output_type": "execute_result",
     "data": {
      "text/plain": [
       "LabelEncoder()"
      ]
     },
     "metadata": {},
     "execution_count": 10
    }
   ],
   "metadata": {}
  },
  {
   "cell_type": "code",
   "execution_count": 11,
   "source": [
    "le.transform(['Iris-setosa','Iris-setosa','Iris-virginica'])"
   ],
   "outputs": [
    {
     "output_type": "execute_result",
     "data": {
      "text/plain": [
       "array([0, 0, 2])"
      ]
     },
     "metadata": {},
     "execution_count": 11
    }
   ],
   "metadata": {}
  },
  {
   "cell_type": "code",
   "execution_count": 12,
   "source": [
    "iris_data['Label'] = le.transform(iris_data.Class)"
   ],
   "outputs": [],
   "metadata": {}
  },
  {
   "cell_type": "code",
   "execution_count": 13,
   "source": [
    "iris_data.head()"
   ],
   "outputs": [
    {
     "output_type": "execute_result",
     "data": {
      "text/plain": [
       "   SepalLength  SepalWidth  PetalLength  PetalWidth        Class  Label\n",
       "0          5.1         3.5          1.4         0.2  Iris-setosa      0\n",
       "1          4.9         3.0          1.4         0.2  Iris-setosa      0\n",
       "2          4.7         3.2          1.3         0.2  Iris-setosa      0\n",
       "3          4.6         3.1          1.5         0.2  Iris-setosa      0\n",
       "4          5.0         3.6          1.4         0.2  Iris-setosa      0"
      ],
      "text/html": [
       "<div>\n",
       "<style scoped>\n",
       "    .dataframe tbody tr th:only-of-type {\n",
       "        vertical-align: middle;\n",
       "    }\n",
       "\n",
       "    .dataframe tbody tr th {\n",
       "        vertical-align: top;\n",
       "    }\n",
       "\n",
       "    .dataframe thead th {\n",
       "        text-align: right;\n",
       "    }\n",
       "</style>\n",
       "<table border=\"1\" class=\"dataframe\">\n",
       "  <thead>\n",
       "    <tr style=\"text-align: right;\">\n",
       "      <th></th>\n",
       "      <th>SepalLength</th>\n",
       "      <th>SepalWidth</th>\n",
       "      <th>PetalLength</th>\n",
       "      <th>PetalWidth</th>\n",
       "      <th>Class</th>\n",
       "      <th>Label</th>\n",
       "    </tr>\n",
       "  </thead>\n",
       "  <tbody>\n",
       "    <tr>\n",
       "      <th>0</th>\n",
       "      <td>5.1</td>\n",
       "      <td>3.5</td>\n",
       "      <td>1.4</td>\n",
       "      <td>0.2</td>\n",
       "      <td>Iris-setosa</td>\n",
       "      <td>0</td>\n",
       "    </tr>\n",
       "    <tr>\n",
       "      <th>1</th>\n",
       "      <td>4.9</td>\n",
       "      <td>3.0</td>\n",
       "      <td>1.4</td>\n",
       "      <td>0.2</td>\n",
       "      <td>Iris-setosa</td>\n",
       "      <td>0</td>\n",
       "    </tr>\n",
       "    <tr>\n",
       "      <th>2</th>\n",
       "      <td>4.7</td>\n",
       "      <td>3.2</td>\n",
       "      <td>1.3</td>\n",
       "      <td>0.2</td>\n",
       "      <td>Iris-setosa</td>\n",
       "      <td>0</td>\n",
       "    </tr>\n",
       "    <tr>\n",
       "      <th>3</th>\n",
       "      <td>4.6</td>\n",
       "      <td>3.1</td>\n",
       "      <td>1.5</td>\n",
       "      <td>0.2</td>\n",
       "      <td>Iris-setosa</td>\n",
       "      <td>0</td>\n",
       "    </tr>\n",
       "    <tr>\n",
       "      <th>4</th>\n",
       "      <td>5.0</td>\n",
       "      <td>3.6</td>\n",
       "      <td>1.4</td>\n",
       "      <td>0.2</td>\n",
       "      <td>Iris-setosa</td>\n",
       "      <td>0</td>\n",
       "    </tr>\n",
       "  </tbody>\n",
       "</table>\n",
       "</div>"
      ]
     },
     "metadata": {},
     "execution_count": 13
    }
   ],
   "metadata": {}
  },
  {
   "cell_type": "markdown",
   "source": [
    "Finally, since sklearn understands numpy's arrays and not Pandas data frames, we will separate the Pandas data frame into two numpy arrays:\n",
    "* np_data contains the input data (sepal length, sepal width, etc)\n",
    "* np_target contains the target labels (0, 1, 2)"
   ],
   "metadata": {}
  },
  {
   "cell_type": "code",
   "execution_count": 14,
   "source": [
    "np_data = iris_data[['SepalLength', 'SepalWidth', 'PetalLength', 'PetalWidth']].values\n",
    "np_target = iris_data['Label'].values"
   ],
   "outputs": [],
   "metadata": {}
  },
  {
   "cell_type": "markdown",
   "source": [
    "For example, let's see the first 5 rows of np_data, and the first 5 elements of np_target:"
   ],
   "metadata": {}
  },
  {
   "cell_type": "code",
   "execution_count": 15,
   "source": [
    "np_data[:5,:]"
   ],
   "outputs": [
    {
     "output_type": "execute_result",
     "data": {
      "text/plain": [
       "array([[5.1, 3.5, 1.4, 0.2],\n",
       "       [4.9, 3. , 1.4, 0.2],\n",
       "       [4.7, 3.2, 1.3, 0.2],\n",
       "       [4.6, 3.1, 1.5, 0.2],\n",
       "       [5. , 3.6, 1.4, 0.2]])"
      ]
     },
     "metadata": {},
     "execution_count": 15
    }
   ],
   "metadata": {}
  },
  {
   "cell_type": "code",
   "execution_count": 16,
   "source": [
    "np_target[:5]"
   ],
   "outputs": [
    {
     "output_type": "execute_result",
     "data": {
      "text/plain": [
       "array([0, 0, 0, 0, 0])"
      ]
     },
     "metadata": {},
     "execution_count": 16
    }
   ],
   "metadata": {}
  },
  {
   "cell_type": "markdown",
   "source": [
    "It took quite long to go through this section! In general, a significant and time-consuming part in a data analysis project is to make sure that we have the right data in the right format. We could have used the iris data available in sklearn and we would have saved all this trouble, but in a real scenario the data would not be conveniently made available by any data analysis tools!"
   ],
   "metadata": {}
  },
  {
   "cell_type": "markdown",
   "source": [
    "### Data exploration\n",
    "\n",
    "The following code uses panda's ability to plot the data graphically (we will see more of this later in this unit)."
   ],
   "metadata": {}
  },
  {
   "cell_type": "code",
   "execution_count": 17,
   "source": [
    "%matplotlib inline\n",
    "\n",
    "import matplotlib.pyplot as plt\n",
    "\n",
    "setosa_data = iris_data[iris_data.Class == 'Iris-setosa']\n",
    "ax = setosa_data.plot.scatter(x='SepalLength', y='SepalWidth', color='DarkBlue', label='Iris-setosa')\n",
    "\n",
    "versicolor_data = iris_data[iris_data.Class == 'Iris-versicolor']\n",
    "ax = versicolor_data.plot.scatter(x='SepalLength', y='SepalWidth', color='DarkGreen', label='Iris-versicolor', ax=ax)\n",
    "\n",
    "virginica_data = iris_data[iris_data.Class == 'Iris-virginica']\n",
    "ax = virginica_data.plot.scatter(x='SepalLength', y='SepalWidth', color='DarkRed', label='Iris-virginica', ax=ax)"
   ],
   "outputs": [
    {
     "output_type": "display_data",
     "data": {
      "text/plain": [
       "<Figure size 432x288 with 1 Axes>"
      ],
      "image/svg+xml": "<?xml version=\"1.0\" encoding=\"utf-8\" standalone=\"no\"?>\n<!DOCTYPE svg PUBLIC \"-//W3C//DTD SVG 1.1//EN\"\n  \"http://www.w3.org/Graphics/SVG/1.1/DTD/svg11.dtd\">\n<svg height=\"264.348196pt\" version=\"1.1\" viewBox=\"0 0 386.969176 264.348196\" width=\"386.969176pt\" xmlns=\"http://www.w3.org/2000/svg\" xmlns:xlink=\"http://www.w3.org/1999/xlink\">\n <metadata>\n  <rdf:RDF xmlns:cc=\"http://creativecommons.org/ns#\" xmlns:dc=\"http://purl.org/dc/elements/1.1/\" xmlns:rdf=\"http://www.w3.org/1999/02/22-rdf-syntax-ns#\">\n   <cc:Work>\n    <dc:type rdf:resource=\"http://purl.org/dc/dcmitype/StillImage\"/>\n    <dc:date>2021-09-02T17:32:02.630222</dc:date>\n    <dc:format>image/svg+xml</dc:format>\n    <dc:creator>\n     <cc:Agent>\n      <dc:title>Matplotlib v3.4.3, https://matplotlib.org/</dc:title>\n     </cc:Agent>\n    </dc:creator>\n   </cc:Work>\n  </rdf:RDF>\n </metadata>\n <defs>\n  <style type=\"text/css\">*{stroke-linecap:butt;stroke-linejoin:round;}</style>\n </defs>\n <g id=\"figure_1\">\n  <g id=\"patch_1\">\n   <path d=\"M 0 264.348196 \nL 386.969176 264.348196 \nL 386.969176 0 \nL 0 0 \nz\n\" style=\"fill:none;\"/>\n  </g>\n  <g id=\"axes_1\">\n   <g id=\"patch_2\">\n    <path d=\"M 43.78125 226.791946 \nL 378.58125 226.791946 \nL 378.58125 9.351946 \nL 43.78125 9.351946 \nz\n\" style=\"fill:#ffffff;\"/>\n   </g>\n   <g id=\"PathCollection_1\">\n    <defs>\n     <path d=\"M 0 2.236068 \nC 0.593012 2.236068 1.161816 2.000462 1.581139 1.581139 \nC 2.000462 1.161816 2.236068 0.593012 2.236068 0 \nC 2.236068 -0.593012 2.000462 -1.161816 1.581139 -1.581139 \nC 1.161816 -2.000462 0.593012 -2.236068 0 -2.236068 \nC -0.593012 -2.236068 -1.161816 -2.000462 -1.581139 -1.581139 \nC -2.000462 -1.161816 -2.236068 -0.593012 -2.236068 0 \nC -2.236068 0.593012 -2.000462 1.161816 -1.581139 1.581139 \nC -1.161816 2.000462 -0.593012 2.236068 0 2.236068 \nz\n\" id=\"m68c95ab2e0\" style=\"stroke:#00008b;\"/>\n    </defs>\n    <g clip-path=\"url(#p1d5a238d11)\">\n     <use style=\"fill:#00008b;stroke:#00008b;\" x=\"126.635795\" xlink:href=\"#m68c95ab2e0\" y=\"93.362855\"/>\n     <use style=\"fill:#00008b;stroke:#00008b;\" x=\"109.726705\" xlink:href=\"#m68c95ab2e0\" y=\"134.544673\"/>\n     <use style=\"fill:#00008b;stroke:#00008b;\" x=\"92.817614\" xlink:href=\"#m68c95ab2e0\" y=\"118.071946\"/>\n     <use style=\"fill:#00008b;stroke:#00008b;\" x=\"84.363068\" xlink:href=\"#m68c95ab2e0\" y=\"126.30831\"/>\n     <use style=\"fill:#00008b;stroke:#00008b;\" x=\"118.18125\" xlink:href=\"#m68c95ab2e0\" y=\"85.126491\"/>\n     <use style=\"fill:#00008b;stroke:#00008b;\" x=\"151.999432\" xlink:href=\"#m68c95ab2e0\" y=\"60.417401\"/>\n     <use style=\"fill:#00008b;stroke:#00008b;\" x=\"84.363068\" xlink:href=\"#m68c95ab2e0\" y=\"101.599219\"/>\n     <use style=\"fill:#00008b;stroke:#00008b;\" x=\"118.18125\" xlink:href=\"#m68c95ab2e0\" y=\"101.599219\"/>\n     <use style=\"fill:#00008b;stroke:#00008b;\" x=\"67.453977\" xlink:href=\"#m68c95ab2e0\" y=\"142.781037\"/>\n     <use style=\"fill:#00008b;stroke:#00008b;\" x=\"109.726705\" xlink:href=\"#m68c95ab2e0\" y=\"126.30831\"/>\n     <use style=\"fill:#00008b;stroke:#00008b;\" x=\"151.999432\" xlink:href=\"#m68c95ab2e0\" y=\"76.890128\"/>\n     <use style=\"fill:#00008b;stroke:#00008b;\" x=\"101.272159\" xlink:href=\"#m68c95ab2e0\" y=\"101.599219\"/>\n     <use style=\"fill:#00008b;stroke:#00008b;\" x=\"101.272159\" xlink:href=\"#m68c95ab2e0\" y=\"134.544673\"/>\n     <use style=\"fill:#00008b;stroke:#00008b;\" x=\"58.999432\" xlink:href=\"#m68c95ab2e0\" y=\"134.544673\"/>\n     <use style=\"fill:#00008b;stroke:#00008b;\" x=\"185.817614\" xlink:href=\"#m68c95ab2e0\" y=\"52.181037\"/>\n     <use style=\"fill:#00008b;stroke:#00008b;\" x=\"177.363068\" xlink:href=\"#m68c95ab2e0\" y=\"19.235582\"/>\n     <use style=\"fill:#00008b;stroke:#00008b;\" x=\"151.999432\" xlink:href=\"#m68c95ab2e0\" y=\"60.417401\"/>\n     <use style=\"fill:#00008b;stroke:#00008b;\" x=\"126.635795\" xlink:href=\"#m68c95ab2e0\" y=\"93.362855\"/>\n     <use style=\"fill:#00008b;stroke:#00008b;\" x=\"177.363068\" xlink:href=\"#m68c95ab2e0\" y=\"68.653764\"/>\n     <use style=\"fill:#00008b;stroke:#00008b;\" x=\"126.635795\" xlink:href=\"#m68c95ab2e0\" y=\"68.653764\"/>\n     <use style=\"fill:#00008b;stroke:#00008b;\" x=\"151.999432\" xlink:href=\"#m68c95ab2e0\" y=\"101.599219\"/>\n     <use style=\"fill:#00008b;stroke:#00008b;\" x=\"126.635795\" xlink:href=\"#m68c95ab2e0\" y=\"76.890128\"/>\n     <use style=\"fill:#00008b;stroke:#00008b;\" x=\"84.363068\" xlink:href=\"#m68c95ab2e0\" y=\"85.126491\"/>\n     <use style=\"fill:#00008b;stroke:#00008b;\" x=\"126.635795\" xlink:href=\"#m68c95ab2e0\" y=\"109.835582\"/>\n     <use style=\"fill:#00008b;stroke:#00008b;\" x=\"101.272159\" xlink:href=\"#m68c95ab2e0\" y=\"101.599219\"/>\n     <use style=\"fill:#00008b;stroke:#00008b;\" x=\"118.18125\" xlink:href=\"#m68c95ab2e0\" y=\"134.544673\"/>\n     <use style=\"fill:#00008b;stroke:#00008b;\" x=\"118.18125\" xlink:href=\"#m68c95ab2e0\" y=\"101.599219\"/>\n     <use style=\"fill:#00008b;stroke:#00008b;\" x=\"135.090341\" xlink:href=\"#m68c95ab2e0\" y=\"93.362855\"/>\n     <use style=\"fill:#00008b;stroke:#00008b;\" x=\"135.090341\" xlink:href=\"#m68c95ab2e0\" y=\"101.599219\"/>\n     <use style=\"fill:#00008b;stroke:#00008b;\" x=\"92.817614\" xlink:href=\"#m68c95ab2e0\" y=\"118.071946\"/>\n     <use style=\"fill:#00008b;stroke:#00008b;\" x=\"101.272159\" xlink:href=\"#m68c95ab2e0\" y=\"126.30831\"/>\n     <use style=\"fill:#00008b;stroke:#00008b;\" x=\"151.999432\" xlink:href=\"#m68c95ab2e0\" y=\"101.599219\"/>\n     <use style=\"fill:#00008b;stroke:#00008b;\" x=\"135.090341\" xlink:href=\"#m68c95ab2e0\" y=\"43.944673\"/>\n     <use style=\"fill:#00008b;stroke:#00008b;\" x=\"160.453977\" xlink:href=\"#m68c95ab2e0\" y=\"35.70831\"/>\n     <use style=\"fill:#00008b;stroke:#00008b;\" x=\"109.726705\" xlink:href=\"#m68c95ab2e0\" y=\"126.30831\"/>\n     <use style=\"fill:#00008b;stroke:#00008b;\" x=\"118.18125\" xlink:href=\"#m68c95ab2e0\" y=\"118.071946\"/>\n     <use style=\"fill:#00008b;stroke:#00008b;\" x=\"160.453977\" xlink:href=\"#m68c95ab2e0\" y=\"93.362855\"/>\n     <use style=\"fill:#00008b;stroke:#00008b;\" x=\"109.726705\" xlink:href=\"#m68c95ab2e0\" y=\"126.30831\"/>\n     <use style=\"fill:#00008b;stroke:#00008b;\" x=\"67.453977\" xlink:href=\"#m68c95ab2e0\" y=\"134.544673\"/>\n     <use style=\"fill:#00008b;stroke:#00008b;\" x=\"126.635795\" xlink:href=\"#m68c95ab2e0\" y=\"101.599219\"/>\n     <use style=\"fill:#00008b;stroke:#00008b;\" x=\"118.18125\" xlink:href=\"#m68c95ab2e0\" y=\"93.362855\"/>\n     <use style=\"fill:#00008b;stroke:#00008b;\" x=\"75.908523\" xlink:href=\"#m68c95ab2e0\" y=\"192.199219\"/>\n     <use style=\"fill:#00008b;stroke:#00008b;\" x=\"67.453977\" xlink:href=\"#m68c95ab2e0\" y=\"118.071946\"/>\n     <use style=\"fill:#00008b;stroke:#00008b;\" x=\"118.18125\" xlink:href=\"#m68c95ab2e0\" y=\"93.362855\"/>\n     <use style=\"fill:#00008b;stroke:#00008b;\" x=\"126.635795\" xlink:href=\"#m68c95ab2e0\" y=\"68.653764\"/>\n     <use style=\"fill:#00008b;stroke:#00008b;\" x=\"101.272159\" xlink:href=\"#m68c95ab2e0\" y=\"134.544673\"/>\n     <use style=\"fill:#00008b;stroke:#00008b;\" x=\"126.635795\" xlink:href=\"#m68c95ab2e0\" y=\"68.653764\"/>\n     <use style=\"fill:#00008b;stroke:#00008b;\" x=\"84.363068\" xlink:href=\"#m68c95ab2e0\" y=\"118.071946\"/>\n     <use style=\"fill:#00008b;stroke:#00008b;\" x=\"143.544886\" xlink:href=\"#m68c95ab2e0\" y=\"76.890128\"/>\n     <use style=\"fill:#00008b;stroke:#00008b;\" x=\"118.18125\" xlink:href=\"#m68c95ab2e0\" y=\"109.835582\"/>\n    </g>\n   </g>\n   <g id=\"PathCollection_2\">\n    <defs>\n     <path d=\"M 0 2.236068 \nC 0.593012 2.236068 1.161816 2.000462 1.581139 1.581139 \nC 2.000462 1.161816 2.236068 0.593012 2.236068 0 \nC 2.236068 -0.593012 2.000462 -1.161816 1.581139 -1.581139 \nC 1.161816 -2.000462 0.593012 -2.236068 0 -2.236068 \nC -0.593012 -2.236068 -1.161816 -2.000462 -1.581139 -1.581139 \nC -2.000462 -1.161816 -2.236068 -0.593012 -2.236068 0 \nC -2.236068 0.593012 -2.000462 1.161816 -1.581139 1.581139 \nC -1.161816 2.000462 -0.593012 2.236068 0 2.236068 \nz\n\" id=\"m7ea869e216\" style=\"stroke:#006400;\"/>\n    </defs>\n    <g clip-path=\"url(#p1d5a238d11)\">\n     <use style=\"fill:#006400;stroke:#006400;\" x=\"287.272159\" xlink:href=\"#m7ea869e216\" y=\"118.071946\"/>\n     <use style=\"fill:#006400;stroke:#006400;\" x=\"236.544886\" xlink:href=\"#m7ea869e216\" y=\"118.071946\"/>\n     <use style=\"fill:#006400;stroke:#006400;\" x=\"278.817614\" xlink:href=\"#m7ea869e216\" y=\"126.30831\"/>\n     <use style=\"fill:#006400;stroke:#006400;\" x=\"160.453977\" xlink:href=\"#m7ea869e216\" y=\"192.199219\"/>\n     <use style=\"fill:#006400;stroke:#006400;\" x=\"244.999432\" xlink:href=\"#m7ea869e216\" y=\"151.017401\"/>\n     <use style=\"fill:#006400;stroke:#006400;\" x=\"177.363068\" xlink:href=\"#m7ea869e216\" y=\"151.017401\"/>\n     <use style=\"fill:#006400;stroke:#006400;\" x=\"228.090341\" xlink:href=\"#m7ea869e216\" y=\"109.835582\"/>\n     <use style=\"fill:#006400;stroke:#006400;\" x=\"109.726705\" xlink:href=\"#m7ea869e216\" y=\"183.962855\"/>\n     <use style=\"fill:#006400;stroke:#006400;\" x=\"253.453977\" xlink:href=\"#m7ea869e216\" y=\"142.781037\"/>\n     <use style=\"fill:#006400;stroke:#006400;\" x=\"135.090341\" xlink:href=\"#m7ea869e216\" y=\"159.253764\"/>\n     <use style=\"fill:#006400;stroke:#006400;\" x=\"118.18125\" xlink:href=\"#m7ea869e216\" y=\"216.90831\"/>\n     <use style=\"fill:#006400;stroke:#006400;\" x=\"194.272159\" xlink:href=\"#m7ea869e216\" y=\"134.544673\"/>\n     <use style=\"fill:#006400;stroke:#006400;\" x=\"202.726705\" xlink:href=\"#m7ea869e216\" y=\"200.435582\"/>\n     <use style=\"fill:#006400;stroke:#006400;\" x=\"211.18125\" xlink:href=\"#m7ea869e216\" y=\"142.781037\"/>\n     <use style=\"fill:#006400;stroke:#006400;\" x=\"168.908523\" xlink:href=\"#m7ea869e216\" y=\"142.781037\"/>\n     <use style=\"fill:#006400;stroke:#006400;\" x=\"261.908523\" xlink:href=\"#m7ea869e216\" y=\"126.30831\"/>\n     <use style=\"fill:#006400;stroke:#006400;\" x=\"168.908523\" xlink:href=\"#m7ea869e216\" y=\"134.544673\"/>\n     <use style=\"fill:#006400;stroke:#006400;\" x=\"185.817614\" xlink:href=\"#m7ea869e216\" y=\"159.253764\"/>\n     <use style=\"fill:#006400;stroke:#006400;\" x=\"219.635795\" xlink:href=\"#m7ea869e216\" y=\"200.435582\"/>\n     <use style=\"fill:#006400;stroke:#006400;\" x=\"168.908523\" xlink:href=\"#m7ea869e216\" y=\"175.726491\"/>\n     <use style=\"fill:#006400;stroke:#006400;\" x=\"194.272159\" xlink:href=\"#m7ea869e216\" y=\"118.071946\"/>\n     <use style=\"fill:#006400;stroke:#006400;\" x=\"211.18125\" xlink:href=\"#m7ea869e216\" y=\"151.017401\"/>\n     <use style=\"fill:#006400;stroke:#006400;\" x=\"228.090341\" xlink:href=\"#m7ea869e216\" y=\"175.726491\"/>\n     <use style=\"fill:#006400;stroke:#006400;\" x=\"211.18125\" xlink:href=\"#m7ea869e216\" y=\"151.017401\"/>\n     <use style=\"fill:#006400;stroke:#006400;\" x=\"236.544886\" xlink:href=\"#m7ea869e216\" y=\"142.781037\"/>\n     <use style=\"fill:#006400;stroke:#006400;\" x=\"253.453977\" xlink:href=\"#m7ea869e216\" y=\"134.544673\"/>\n     <use style=\"fill:#006400;stroke:#006400;\" x=\"270.363068\" xlink:href=\"#m7ea869e216\" y=\"151.017401\"/>\n     <use style=\"fill:#006400;stroke:#006400;\" x=\"261.908523\" xlink:href=\"#m7ea869e216\" y=\"134.544673\"/>\n     <use style=\"fill:#006400;stroke:#006400;\" x=\"202.726705\" xlink:href=\"#m7ea869e216\" y=\"142.781037\"/>\n     <use style=\"fill:#006400;stroke:#006400;\" x=\"177.363068\" xlink:href=\"#m7ea869e216\" y=\"167.490128\"/>\n     <use style=\"fill:#006400;stroke:#006400;\" x=\"160.453977\" xlink:href=\"#m7ea869e216\" y=\"183.962855\"/>\n     <use style=\"fill:#006400;stroke:#006400;\" x=\"160.453977\" xlink:href=\"#m7ea869e216\" y=\"183.962855\"/>\n     <use style=\"fill:#006400;stroke:#006400;\" x=\"185.817614\" xlink:href=\"#m7ea869e216\" y=\"159.253764\"/>\n     <use style=\"fill:#006400;stroke:#006400;\" x=\"202.726705\" xlink:href=\"#m7ea869e216\" y=\"159.253764\"/>\n     <use style=\"fill:#006400;stroke:#006400;\" x=\"151.999432\" xlink:href=\"#m7ea869e216\" y=\"134.544673\"/>\n     <use style=\"fill:#006400;stroke:#006400;\" x=\"202.726705\" xlink:href=\"#m7ea869e216\" y=\"101.599219\"/>\n     <use style=\"fill:#006400;stroke:#006400;\" x=\"261.908523\" xlink:href=\"#m7ea869e216\" y=\"126.30831\"/>\n     <use style=\"fill:#006400;stroke:#006400;\" x=\"228.090341\" xlink:href=\"#m7ea869e216\" y=\"192.199219\"/>\n     <use style=\"fill:#006400;stroke:#006400;\" x=\"168.908523\" xlink:href=\"#m7ea869e216\" y=\"134.544673\"/>\n     <use style=\"fill:#006400;stroke:#006400;\" x=\"160.453977\" xlink:href=\"#m7ea869e216\" y=\"175.726491\"/>\n     <use style=\"fill:#006400;stroke:#006400;\" x=\"160.453977\" xlink:href=\"#m7ea869e216\" y=\"167.490128\"/>\n     <use style=\"fill:#006400;stroke:#006400;\" x=\"211.18125\" xlink:href=\"#m7ea869e216\" y=\"134.544673\"/>\n     <use style=\"fill:#006400;stroke:#006400;\" x=\"185.817614\" xlink:href=\"#m7ea869e216\" y=\"167.490128\"/>\n     <use style=\"fill:#006400;stroke:#006400;\" x=\"118.18125\" xlink:href=\"#m7ea869e216\" y=\"192.199219\"/>\n     <use style=\"fill:#006400;stroke:#006400;\" x=\"168.908523\" xlink:href=\"#m7ea869e216\" y=\"159.253764\"/>\n     <use style=\"fill:#006400;stroke:#006400;\" x=\"177.363068\" xlink:href=\"#m7ea869e216\" y=\"134.544673\"/>\n     <use style=\"fill:#006400;stroke:#006400;\" x=\"177.363068\" xlink:href=\"#m7ea869e216\" y=\"142.781037\"/>\n     <use style=\"fill:#006400;stroke:#006400;\" x=\"219.635795\" xlink:href=\"#m7ea869e216\" y=\"142.781037\"/>\n     <use style=\"fill:#006400;stroke:#006400;\" x=\"126.635795\" xlink:href=\"#m7ea869e216\" y=\"175.726491\"/>\n     <use style=\"fill:#006400;stroke:#006400;\" x=\"177.363068\" xlink:href=\"#m7ea869e216\" y=\"151.017401\"/>\n    </g>\n   </g>\n   <g id=\"PathCollection_3\">\n    <defs>\n     <path d=\"M 0 2.236068 \nC 0.593012 2.236068 1.161816 2.000462 1.581139 1.581139 \nC 2.000462 1.161816 2.236068 0.593012 2.236068 0 \nC 2.236068 -0.593012 2.000462 -1.161816 1.581139 -1.581139 \nC 1.161816 -2.000462 0.593012 -2.236068 0 -2.236068 \nC -0.593012 -2.236068 -1.161816 -2.000462 -1.581139 -1.581139 \nC -2.000462 -1.161816 -2.236068 -0.593012 -2.236068 0 \nC -2.236068 0.593012 -2.000462 1.161816 -1.581139 1.581139 \nC -1.161816 2.000462 -0.593012 2.236068 0 2.236068 \nz\n\" id=\"m72bd8014c5\" style=\"stroke:#8b0000;\"/>\n    </defs>\n    <g clip-path=\"url(#p1d5a238d11)\">\n     <use style=\"fill:#8b0000;stroke:#8b0000;\" x=\"228.090341\" xlink:href=\"#m72bd8014c5\" y=\"109.835582\"/>\n     <use style=\"fill:#8b0000;stroke:#8b0000;\" x=\"185.817614\" xlink:href=\"#m72bd8014c5\" y=\"159.253764\"/>\n     <use style=\"fill:#8b0000;stroke:#8b0000;\" x=\"295.726705\" xlink:href=\"#m72bd8014c5\" y=\"134.544673\"/>\n     <use style=\"fill:#8b0000;stroke:#8b0000;\" x=\"228.090341\" xlink:href=\"#m72bd8014c5\" y=\"142.781037\"/>\n     <use style=\"fill:#8b0000;stroke:#8b0000;\" x=\"244.999432\" xlink:href=\"#m72bd8014c5\" y=\"134.544673\"/>\n     <use style=\"fill:#8b0000;stroke:#8b0000;\" x=\"337.999432\" xlink:href=\"#m72bd8014c5\" y=\"134.544673\"/>\n     <use style=\"fill:#8b0000;stroke:#8b0000;\" x=\"109.726705\" xlink:href=\"#m72bd8014c5\" y=\"175.726491\"/>\n     <use style=\"fill:#8b0000;stroke:#8b0000;\" x=\"312.635795\" xlink:href=\"#m72bd8014c5\" y=\"142.781037\"/>\n     <use style=\"fill:#8b0000;stroke:#8b0000;\" x=\"261.908523\" xlink:href=\"#m72bd8014c5\" y=\"175.726491\"/>\n     <use style=\"fill:#8b0000;stroke:#8b0000;\" x=\"304.18125\" xlink:href=\"#m72bd8014c5\" y=\"85.126491\"/>\n     <use style=\"fill:#8b0000;stroke:#8b0000;\" x=\"244.999432\" xlink:href=\"#m72bd8014c5\" y=\"118.071946\"/>\n     <use style=\"fill:#8b0000;stroke:#8b0000;\" x=\"236.544886\" xlink:href=\"#m72bd8014c5\" y=\"159.253764\"/>\n     <use style=\"fill:#8b0000;stroke:#8b0000;\" x=\"270.363068\" xlink:href=\"#m72bd8014c5\" y=\"134.544673\"/>\n     <use style=\"fill:#8b0000;stroke:#8b0000;\" x=\"177.363068\" xlink:href=\"#m72bd8014c5\" y=\"175.726491\"/>\n     <use style=\"fill:#8b0000;stroke:#8b0000;\" x=\"185.817614\" xlink:href=\"#m72bd8014c5\" y=\"151.017401\"/>\n     <use style=\"fill:#8b0000;stroke:#8b0000;\" x=\"236.544886\" xlink:href=\"#m72bd8014c5\" y=\"118.071946\"/>\n     <use style=\"fill:#8b0000;stroke:#8b0000;\" x=\"244.999432\" xlink:href=\"#m72bd8014c5\" y=\"134.544673\"/>\n     <use style=\"fill:#8b0000;stroke:#8b0000;\" x=\"346.453977\" xlink:href=\"#m72bd8014c5\" y=\"68.653764\"/>\n     <use style=\"fill:#8b0000;stroke:#8b0000;\" x=\"346.453977\" xlink:href=\"#m72bd8014c5\" y=\"167.490128\"/>\n     <use style=\"fill:#8b0000;stroke:#8b0000;\" x=\"202.726705\" xlink:href=\"#m72bd8014c5\" y=\"200.435582\"/>\n     <use style=\"fill:#8b0000;stroke:#8b0000;\" x=\"278.817614\" xlink:href=\"#m72bd8014c5\" y=\"118.071946\"/>\n     <use style=\"fill:#8b0000;stroke:#8b0000;\" x=\"168.908523\" xlink:href=\"#m72bd8014c5\" y=\"151.017401\"/>\n     <use style=\"fill:#8b0000;stroke:#8b0000;\" x=\"346.453977\" xlink:href=\"#m72bd8014c5\" y=\"151.017401\"/>\n     <use style=\"fill:#8b0000;stroke:#8b0000;\" x=\"228.090341\" xlink:href=\"#m72bd8014c5\" y=\"159.253764\"/>\n     <use style=\"fill:#8b0000;stroke:#8b0000;\" x=\"261.908523\" xlink:href=\"#m72bd8014c5\" y=\"109.835582\"/>\n     <use style=\"fill:#8b0000;stroke:#8b0000;\" x=\"304.18125\" xlink:href=\"#m72bd8014c5\" y=\"118.071946\"/>\n     <use style=\"fill:#8b0000;stroke:#8b0000;\" x=\"219.635795\" xlink:href=\"#m72bd8014c5\" y=\"151.017401\"/>\n     <use style=\"fill:#8b0000;stroke:#8b0000;\" x=\"211.18125\" xlink:href=\"#m72bd8014c5\" y=\"134.544673\"/>\n     <use style=\"fill:#8b0000;stroke:#8b0000;\" x=\"236.544886\" xlink:href=\"#m72bd8014c5\" y=\"151.017401\"/>\n     <use style=\"fill:#8b0000;stroke:#8b0000;\" x=\"304.18125\" xlink:href=\"#m72bd8014c5\" y=\"134.544673\"/>\n     <use style=\"fill:#8b0000;stroke:#8b0000;\" x=\"321.090341\" xlink:href=\"#m72bd8014c5\" y=\"151.017401\"/>\n     <use style=\"fill:#8b0000;stroke:#8b0000;\" x=\"363.363068\" xlink:href=\"#m72bd8014c5\" y=\"68.653764\"/>\n     <use style=\"fill:#8b0000;stroke:#8b0000;\" x=\"236.544886\" xlink:href=\"#m72bd8014c5\" y=\"151.017401\"/>\n     <use style=\"fill:#8b0000;stroke:#8b0000;\" x=\"228.090341\" xlink:href=\"#m72bd8014c5\" y=\"151.017401\"/>\n     <use style=\"fill:#8b0000;stroke:#8b0000;\" x=\"211.18125\" xlink:href=\"#m72bd8014c5\" y=\"167.490128\"/>\n     <use style=\"fill:#8b0000;stroke:#8b0000;\" x=\"346.453977\" xlink:href=\"#m72bd8014c5\" y=\"134.544673\"/>\n     <use style=\"fill:#8b0000;stroke:#8b0000;\" x=\"228.090341\" xlink:href=\"#m72bd8014c5\" y=\"101.599219\"/>\n     <use style=\"fill:#8b0000;stroke:#8b0000;\" x=\"236.544886\" xlink:href=\"#m72bd8014c5\" y=\"126.30831\"/>\n     <use style=\"fill:#8b0000;stroke:#8b0000;\" x=\"202.726705\" xlink:href=\"#m72bd8014c5\" y=\"134.544673\"/>\n     <use style=\"fill:#8b0000;stroke:#8b0000;\" x=\"278.817614\" xlink:href=\"#m72bd8014c5\" y=\"126.30831\"/>\n     <use style=\"fill:#8b0000;stroke:#8b0000;\" x=\"261.908523\" xlink:href=\"#m72bd8014c5\" y=\"126.30831\"/>\n     <use style=\"fill:#8b0000;stroke:#8b0000;\" x=\"278.817614\" xlink:href=\"#m72bd8014c5\" y=\"126.30831\"/>\n     <use style=\"fill:#8b0000;stroke:#8b0000;\" x=\"185.817614\" xlink:href=\"#m72bd8014c5\" y=\"159.253764\"/>\n     <use style=\"fill:#8b0000;stroke:#8b0000;\" x=\"270.363068\" xlink:href=\"#m72bd8014c5\" y=\"118.071946\"/>\n     <use style=\"fill:#8b0000;stroke:#8b0000;\" x=\"261.908523\" xlink:href=\"#m72bd8014c5\" y=\"109.835582\"/>\n     <use style=\"fill:#8b0000;stroke:#8b0000;\" x=\"261.908523\" xlink:href=\"#m72bd8014c5\" y=\"134.544673\"/>\n     <use style=\"fill:#8b0000;stroke:#8b0000;\" x=\"228.090341\" xlink:href=\"#m72bd8014c5\" y=\"175.726491\"/>\n     <use style=\"fill:#8b0000;stroke:#8b0000;\" x=\"244.999432\" xlink:href=\"#m72bd8014c5\" y=\"134.544673\"/>\n     <use style=\"fill:#8b0000;stroke:#8b0000;\" x=\"219.635795\" xlink:href=\"#m72bd8014c5\" y=\"101.599219\"/>\n     <use style=\"fill:#8b0000;stroke:#8b0000;\" x=\"194.272159\" xlink:href=\"#m72bd8014c5\" y=\"134.544673\"/>\n    </g>\n   </g>\n   <g id=\"matplotlib.axis_1\">\n    <g id=\"xtick_1\">\n     <g id=\"line2d_1\">\n      <defs>\n       <path d=\"M 0 0 \nL 0 3.5 \n\" id=\"m84b940671c\" style=\"stroke:#000000;stroke-width:0.8;\"/>\n      </defs>\n      <g>\n       <use style=\"stroke:#000000;stroke-width:0.8;\" x=\"75.908523\" xlink:href=\"#m84b940671c\" y=\"226.791946\"/>\n      </g>\n     </g>\n     <g id=\"text_1\">\n      <!-- 4.5 -->\n      <g transform=\"translate(67.95696 241.390384)scale(0.1 -0.1)\">\n       <defs>\n        <path d=\"M 2419 4116 \nL 825 1625 \nL 2419 1625 \nL 2419 4116 \nz\nM 2253 4666 \nL 3047 4666 \nL 3047 1625 \nL 3713 1625 \nL 3713 1100 \nL 3047 1100 \nL 3047 0 \nL 2419 0 \nL 2419 1100 \nL 313 1100 \nL 313 1709 \nL 2253 4666 \nz\n\" id=\"DejaVuSans-34\" transform=\"scale(0.015625)\"/>\n        <path d=\"M 684 794 \nL 1344 794 \nL 1344 0 \nL 684 0 \nL 684 794 \nz\n\" id=\"DejaVuSans-2e\" transform=\"scale(0.015625)\"/>\n        <path d=\"M 691 4666 \nL 3169 4666 \nL 3169 4134 \nL 1269 4134 \nL 1269 2991 \nQ 1406 3038 1543 3061 \nQ 1681 3084 1819 3084 \nQ 2600 3084 3056 2656 \nQ 3513 2228 3513 1497 \nQ 3513 744 3044 326 \nQ 2575 -91 1722 -91 \nQ 1428 -91 1123 -41 \nQ 819 9 494 109 \nL 494 744 \nQ 775 591 1075 516 \nQ 1375 441 1709 441 \nQ 2250 441 2565 725 \nQ 2881 1009 2881 1497 \nQ 2881 1984 2565 2268 \nQ 2250 2553 1709 2553 \nQ 1456 2553 1204 2497 \nQ 953 2441 691 2322 \nL 691 4666 \nz\n\" id=\"DejaVuSans-35\" transform=\"scale(0.015625)\"/>\n       </defs>\n       <use xlink:href=\"#DejaVuSans-34\"/>\n       <use x=\"63.623047\" xlink:href=\"#DejaVuSans-2e\"/>\n       <use x=\"95.410156\" xlink:href=\"#DejaVuSans-35\"/>\n      </g>\n     </g>\n    </g>\n    <g id=\"xtick_2\">\n     <g id=\"line2d_2\">\n      <g>\n       <use style=\"stroke:#000000;stroke-width:0.8;\" x=\"118.18125\" xlink:href=\"#m84b940671c\" y=\"226.791946\"/>\n      </g>\n     </g>\n     <g id=\"text_2\">\n      <!-- 5.0 -->\n      <g transform=\"translate(110.229687 241.390384)scale(0.1 -0.1)\">\n       <defs>\n        <path d=\"M 2034 4250 \nQ 1547 4250 1301 3770 \nQ 1056 3291 1056 2328 \nQ 1056 1369 1301 889 \nQ 1547 409 2034 409 \nQ 2525 409 2770 889 \nQ 3016 1369 3016 2328 \nQ 3016 3291 2770 3770 \nQ 2525 4250 2034 4250 \nz\nM 2034 4750 \nQ 2819 4750 3233 4129 \nQ 3647 3509 3647 2328 \nQ 3647 1150 3233 529 \nQ 2819 -91 2034 -91 \nQ 1250 -91 836 529 \nQ 422 1150 422 2328 \nQ 422 3509 836 4129 \nQ 1250 4750 2034 4750 \nz\n\" id=\"DejaVuSans-30\" transform=\"scale(0.015625)\"/>\n       </defs>\n       <use xlink:href=\"#DejaVuSans-35\"/>\n       <use x=\"63.623047\" xlink:href=\"#DejaVuSans-2e\"/>\n       <use x=\"95.410156\" xlink:href=\"#DejaVuSans-30\"/>\n      </g>\n     </g>\n    </g>\n    <g id=\"xtick_3\">\n     <g id=\"line2d_3\">\n      <g>\n       <use style=\"stroke:#000000;stroke-width:0.8;\" x=\"160.453977\" xlink:href=\"#m84b940671c\" y=\"226.791946\"/>\n      </g>\n     </g>\n     <g id=\"text_3\">\n      <!-- 5.5 -->\n      <g transform=\"translate(152.502415 241.390384)scale(0.1 -0.1)\">\n       <use xlink:href=\"#DejaVuSans-35\"/>\n       <use x=\"63.623047\" xlink:href=\"#DejaVuSans-2e\"/>\n       <use x=\"95.410156\" xlink:href=\"#DejaVuSans-35\"/>\n      </g>\n     </g>\n    </g>\n    <g id=\"xtick_4\">\n     <g id=\"line2d_4\">\n      <g>\n       <use style=\"stroke:#000000;stroke-width:0.8;\" x=\"202.726705\" xlink:href=\"#m84b940671c\" y=\"226.791946\"/>\n      </g>\n     </g>\n     <g id=\"text_4\">\n      <!-- 6.0 -->\n      <g transform=\"translate(194.775142 241.390384)scale(0.1 -0.1)\">\n       <defs>\n        <path d=\"M 2113 2584 \nQ 1688 2584 1439 2293 \nQ 1191 2003 1191 1497 \nQ 1191 994 1439 701 \nQ 1688 409 2113 409 \nQ 2538 409 2786 701 \nQ 3034 994 3034 1497 \nQ 3034 2003 2786 2293 \nQ 2538 2584 2113 2584 \nz\nM 3366 4563 \nL 3366 3988 \nQ 3128 4100 2886 4159 \nQ 2644 4219 2406 4219 \nQ 1781 4219 1451 3797 \nQ 1122 3375 1075 2522 \nQ 1259 2794 1537 2939 \nQ 1816 3084 2150 3084 \nQ 2853 3084 3261 2657 \nQ 3669 2231 3669 1497 \nQ 3669 778 3244 343 \nQ 2819 -91 2113 -91 \nQ 1303 -91 875 529 \nQ 447 1150 447 2328 \nQ 447 3434 972 4092 \nQ 1497 4750 2381 4750 \nQ 2619 4750 2861 4703 \nQ 3103 4656 3366 4563 \nz\n\" id=\"DejaVuSans-36\" transform=\"scale(0.015625)\"/>\n       </defs>\n       <use xlink:href=\"#DejaVuSans-36\"/>\n       <use x=\"63.623047\" xlink:href=\"#DejaVuSans-2e\"/>\n       <use x=\"95.410156\" xlink:href=\"#DejaVuSans-30\"/>\n      </g>\n     </g>\n    </g>\n    <g id=\"xtick_5\">\n     <g id=\"line2d_5\">\n      <g>\n       <use style=\"stroke:#000000;stroke-width:0.8;\" x=\"244.999432\" xlink:href=\"#m84b940671c\" y=\"226.791946\"/>\n      </g>\n     </g>\n     <g id=\"text_5\">\n      <!-- 6.5 -->\n      <g transform=\"translate(237.047869 241.390384)scale(0.1 -0.1)\">\n       <use xlink:href=\"#DejaVuSans-36\"/>\n       <use x=\"63.623047\" xlink:href=\"#DejaVuSans-2e\"/>\n       <use x=\"95.410156\" xlink:href=\"#DejaVuSans-35\"/>\n      </g>\n     </g>\n    </g>\n    <g id=\"xtick_6\">\n     <g id=\"line2d_6\">\n      <g>\n       <use style=\"stroke:#000000;stroke-width:0.8;\" x=\"287.272159\" xlink:href=\"#m84b940671c\" y=\"226.791946\"/>\n      </g>\n     </g>\n     <g id=\"text_6\">\n      <!-- 7.0 -->\n      <g transform=\"translate(279.320597 241.390384)scale(0.1 -0.1)\">\n       <defs>\n        <path d=\"M 525 4666 \nL 3525 4666 \nL 3525 4397 \nL 1831 0 \nL 1172 0 \nL 2766 4134 \nL 525 4134 \nL 525 4666 \nz\n\" id=\"DejaVuSans-37\" transform=\"scale(0.015625)\"/>\n       </defs>\n       <use xlink:href=\"#DejaVuSans-37\"/>\n       <use x=\"63.623047\" xlink:href=\"#DejaVuSans-2e\"/>\n       <use x=\"95.410156\" xlink:href=\"#DejaVuSans-30\"/>\n      </g>\n     </g>\n    </g>\n    <g id=\"xtick_7\">\n     <g id=\"line2d_7\">\n      <g>\n       <use style=\"stroke:#000000;stroke-width:0.8;\" x=\"329.544886\" xlink:href=\"#m84b940671c\" y=\"226.791946\"/>\n      </g>\n     </g>\n     <g id=\"text_7\">\n      <!-- 7.5 -->\n      <g transform=\"translate(321.593324 241.390384)scale(0.1 -0.1)\">\n       <use xlink:href=\"#DejaVuSans-37\"/>\n       <use x=\"63.623047\" xlink:href=\"#DejaVuSans-2e\"/>\n       <use x=\"95.410156\" xlink:href=\"#DejaVuSans-35\"/>\n      </g>\n     </g>\n    </g>\n    <g id=\"xtick_8\">\n     <g id=\"line2d_8\">\n      <g>\n       <use style=\"stroke:#000000;stroke-width:0.8;\" x=\"371.817614\" xlink:href=\"#m84b940671c\" y=\"226.791946\"/>\n      </g>\n     </g>\n     <g id=\"text_8\">\n      <!-- 8.0 -->\n      <g transform=\"translate(363.866051 241.390384)scale(0.1 -0.1)\">\n       <defs>\n        <path d=\"M 2034 2216 \nQ 1584 2216 1326 1975 \nQ 1069 1734 1069 1313 \nQ 1069 891 1326 650 \nQ 1584 409 2034 409 \nQ 2484 409 2743 651 \nQ 3003 894 3003 1313 \nQ 3003 1734 2745 1975 \nQ 2488 2216 2034 2216 \nz\nM 1403 2484 \nQ 997 2584 770 2862 \nQ 544 3141 544 3541 \nQ 544 4100 942 4425 \nQ 1341 4750 2034 4750 \nQ 2731 4750 3128 4425 \nQ 3525 4100 3525 3541 \nQ 3525 3141 3298 2862 \nQ 3072 2584 2669 2484 \nQ 3125 2378 3379 2068 \nQ 3634 1759 3634 1313 \nQ 3634 634 3220 271 \nQ 2806 -91 2034 -91 \nQ 1263 -91 848 271 \nQ 434 634 434 1313 \nQ 434 1759 690 2068 \nQ 947 2378 1403 2484 \nz\nM 1172 3481 \nQ 1172 3119 1398 2916 \nQ 1625 2713 2034 2713 \nQ 2441 2713 2670 2916 \nQ 2900 3119 2900 3481 \nQ 2900 3844 2670 4047 \nQ 2441 4250 2034 4250 \nQ 1625 4250 1398 4047 \nQ 1172 3844 1172 3481 \nz\n\" id=\"DejaVuSans-38\" transform=\"scale(0.015625)\"/>\n       </defs>\n       <use xlink:href=\"#DejaVuSans-38\"/>\n       <use x=\"63.623047\" xlink:href=\"#DejaVuSans-2e\"/>\n       <use x=\"95.410156\" xlink:href=\"#DejaVuSans-30\"/>\n      </g>\n     </g>\n    </g>\n    <g id=\"text_9\">\n     <!-- SepalLength -->\n     <g transform=\"translate(180.05625 255.068509)scale(0.1 -0.1)\">\n      <defs>\n       <path d=\"M 3425 4513 \nL 3425 3897 \nQ 3066 4069 2747 4153 \nQ 2428 4238 2131 4238 \nQ 1616 4238 1336 4038 \nQ 1056 3838 1056 3469 \nQ 1056 3159 1242 3001 \nQ 1428 2844 1947 2747 \nL 2328 2669 \nQ 3034 2534 3370 2195 \nQ 3706 1856 3706 1288 \nQ 3706 609 3251 259 \nQ 2797 -91 1919 -91 \nQ 1588 -91 1214 -16 \nQ 841 59 441 206 \nL 441 856 \nQ 825 641 1194 531 \nQ 1563 422 1919 422 \nQ 2459 422 2753 634 \nQ 3047 847 3047 1241 \nQ 3047 1584 2836 1778 \nQ 2625 1972 2144 2069 \nL 1759 2144 \nQ 1053 2284 737 2584 \nQ 422 2884 422 3419 \nQ 422 4038 858 4394 \nQ 1294 4750 2059 4750 \nQ 2388 4750 2728 4690 \nQ 3069 4631 3425 4513 \nz\n\" id=\"DejaVuSans-53\" transform=\"scale(0.015625)\"/>\n       <path d=\"M 3597 1894 \nL 3597 1613 \nL 953 1613 \nQ 991 1019 1311 708 \nQ 1631 397 2203 397 \nQ 2534 397 2845 478 \nQ 3156 559 3463 722 \nL 3463 178 \nQ 3153 47 2828 -22 \nQ 2503 -91 2169 -91 \nQ 1331 -91 842 396 \nQ 353 884 353 1716 \nQ 353 2575 817 3079 \nQ 1281 3584 2069 3584 \nQ 2775 3584 3186 3129 \nQ 3597 2675 3597 1894 \nz\nM 3022 2063 \nQ 3016 2534 2758 2815 \nQ 2500 3097 2075 3097 \nQ 1594 3097 1305 2825 \nQ 1016 2553 972 2059 \nL 3022 2063 \nz\n\" id=\"DejaVuSans-65\" transform=\"scale(0.015625)\"/>\n       <path d=\"M 1159 525 \nL 1159 -1331 \nL 581 -1331 \nL 581 3500 \nL 1159 3500 \nL 1159 2969 \nQ 1341 3281 1617 3432 \nQ 1894 3584 2278 3584 \nQ 2916 3584 3314 3078 \nQ 3713 2572 3713 1747 \nQ 3713 922 3314 415 \nQ 2916 -91 2278 -91 \nQ 1894 -91 1617 61 \nQ 1341 213 1159 525 \nz\nM 3116 1747 \nQ 3116 2381 2855 2742 \nQ 2594 3103 2138 3103 \nQ 1681 3103 1420 2742 \nQ 1159 2381 1159 1747 \nQ 1159 1113 1420 752 \nQ 1681 391 2138 391 \nQ 2594 391 2855 752 \nQ 3116 1113 3116 1747 \nz\n\" id=\"DejaVuSans-70\" transform=\"scale(0.015625)\"/>\n       <path d=\"M 2194 1759 \nQ 1497 1759 1228 1600 \nQ 959 1441 959 1056 \nQ 959 750 1161 570 \nQ 1363 391 1709 391 \nQ 2188 391 2477 730 \nQ 2766 1069 2766 1631 \nL 2766 1759 \nL 2194 1759 \nz\nM 3341 1997 \nL 3341 0 \nL 2766 0 \nL 2766 531 \nQ 2569 213 2275 61 \nQ 1981 -91 1556 -91 \nQ 1019 -91 701 211 \nQ 384 513 384 1019 \nQ 384 1609 779 1909 \nQ 1175 2209 1959 2209 \nL 2766 2209 \nL 2766 2266 \nQ 2766 2663 2505 2880 \nQ 2244 3097 1772 3097 \nQ 1472 3097 1187 3025 \nQ 903 2953 641 2809 \nL 641 3341 \nQ 956 3463 1253 3523 \nQ 1550 3584 1831 3584 \nQ 2591 3584 2966 3190 \nQ 3341 2797 3341 1997 \nz\n\" id=\"DejaVuSans-61\" transform=\"scale(0.015625)\"/>\n       <path d=\"M 603 4863 \nL 1178 4863 \nL 1178 0 \nL 603 0 \nL 603 4863 \nz\n\" id=\"DejaVuSans-6c\" transform=\"scale(0.015625)\"/>\n       <path d=\"M 628 4666 \nL 1259 4666 \nL 1259 531 \nL 3531 531 \nL 3531 0 \nL 628 0 \nL 628 4666 \nz\n\" id=\"DejaVuSans-4c\" transform=\"scale(0.015625)\"/>\n       <path d=\"M 3513 2113 \nL 3513 0 \nL 2938 0 \nL 2938 2094 \nQ 2938 2591 2744 2837 \nQ 2550 3084 2163 3084 \nQ 1697 3084 1428 2787 \nQ 1159 2491 1159 1978 \nL 1159 0 \nL 581 0 \nL 581 3500 \nL 1159 3500 \nL 1159 2956 \nQ 1366 3272 1645 3428 \nQ 1925 3584 2291 3584 \nQ 2894 3584 3203 3211 \nQ 3513 2838 3513 2113 \nz\n\" id=\"DejaVuSans-6e\" transform=\"scale(0.015625)\"/>\n       <path d=\"M 2906 1791 \nQ 2906 2416 2648 2759 \nQ 2391 3103 1925 3103 \nQ 1463 3103 1205 2759 \nQ 947 2416 947 1791 \nQ 947 1169 1205 825 \nQ 1463 481 1925 481 \nQ 2391 481 2648 825 \nQ 2906 1169 2906 1791 \nz\nM 3481 434 \nQ 3481 -459 3084 -895 \nQ 2688 -1331 1869 -1331 \nQ 1566 -1331 1297 -1286 \nQ 1028 -1241 775 -1147 \nL 775 -588 \nQ 1028 -725 1275 -790 \nQ 1522 -856 1778 -856 \nQ 2344 -856 2625 -561 \nQ 2906 -266 2906 331 \nL 2906 616 \nQ 2728 306 2450 153 \nQ 2172 0 1784 0 \nQ 1141 0 747 490 \nQ 353 981 353 1791 \nQ 353 2603 747 3093 \nQ 1141 3584 1784 3584 \nQ 2172 3584 2450 3431 \nQ 2728 3278 2906 2969 \nL 2906 3500 \nL 3481 3500 \nL 3481 434 \nz\n\" id=\"DejaVuSans-67\" transform=\"scale(0.015625)\"/>\n       <path d=\"M 1172 4494 \nL 1172 3500 \nL 2356 3500 \nL 2356 3053 \nL 1172 3053 \nL 1172 1153 \nQ 1172 725 1289 603 \nQ 1406 481 1766 481 \nL 2356 481 \nL 2356 0 \nL 1766 0 \nQ 1100 0 847 248 \nQ 594 497 594 1153 \nL 594 3053 \nL 172 3053 \nL 172 3500 \nL 594 3500 \nL 594 4494 \nL 1172 4494 \nz\n\" id=\"DejaVuSans-74\" transform=\"scale(0.015625)\"/>\n       <path d=\"M 3513 2113 \nL 3513 0 \nL 2938 0 \nL 2938 2094 \nQ 2938 2591 2744 2837 \nQ 2550 3084 2163 3084 \nQ 1697 3084 1428 2787 \nQ 1159 2491 1159 1978 \nL 1159 0 \nL 581 0 \nL 581 4863 \nL 1159 4863 \nL 1159 2956 \nQ 1366 3272 1645 3428 \nQ 1925 3584 2291 3584 \nQ 2894 3584 3203 3211 \nQ 3513 2838 3513 2113 \nz\n\" id=\"DejaVuSans-68\" transform=\"scale(0.015625)\"/>\n      </defs>\n      <use xlink:href=\"#DejaVuSans-53\"/>\n      <use x=\"63.476562\" xlink:href=\"#DejaVuSans-65\"/>\n      <use x=\"125\" xlink:href=\"#DejaVuSans-70\"/>\n      <use x=\"188.476562\" xlink:href=\"#DejaVuSans-61\"/>\n      <use x=\"249.755859\" xlink:href=\"#DejaVuSans-6c\"/>\n      <use x=\"277.539062\" xlink:href=\"#DejaVuSans-4c\"/>\n      <use x=\"331.501953\" xlink:href=\"#DejaVuSans-65\"/>\n      <use x=\"393.025391\" xlink:href=\"#DejaVuSans-6e\"/>\n      <use x=\"456.404297\" xlink:href=\"#DejaVuSans-67\"/>\n      <use x=\"519.880859\" xlink:href=\"#DejaVuSans-74\"/>\n      <use x=\"559.089844\" xlink:href=\"#DejaVuSans-68\"/>\n     </g>\n    </g>\n   </g>\n   <g id=\"matplotlib.axis_2\">\n    <g id=\"ytick_1\">\n     <g id=\"line2d_9\">\n      <defs>\n       <path d=\"M 0 0 \nL -3.5 0 \n\" id=\"m88abcda873\" style=\"stroke:#000000;stroke-width:0.8;\"/>\n      </defs>\n      <g>\n       <use style=\"stroke:#000000;stroke-width:0.8;\" x=\"43.78125\" xlink:href=\"#m88abcda873\" y=\"216.90831\"/>\n      </g>\n     </g>\n     <g id=\"text_10\">\n      <!-- 2.0 -->\n      <g transform=\"translate(20.878125 220.707528)scale(0.1 -0.1)\">\n       <defs>\n        <path d=\"M 1228 531 \nL 3431 531 \nL 3431 0 \nL 469 0 \nL 469 531 \nQ 828 903 1448 1529 \nQ 2069 2156 2228 2338 \nQ 2531 2678 2651 2914 \nQ 2772 3150 2772 3378 \nQ 2772 3750 2511 3984 \nQ 2250 4219 1831 4219 \nQ 1534 4219 1204 4116 \nQ 875 4013 500 3803 \nL 500 4441 \nQ 881 4594 1212 4672 \nQ 1544 4750 1819 4750 \nQ 2544 4750 2975 4387 \nQ 3406 4025 3406 3419 \nQ 3406 3131 3298 2873 \nQ 3191 2616 2906 2266 \nQ 2828 2175 2409 1742 \nQ 1991 1309 1228 531 \nz\n\" id=\"DejaVuSans-32\" transform=\"scale(0.015625)\"/>\n       </defs>\n       <use xlink:href=\"#DejaVuSans-32\"/>\n       <use x=\"63.623047\" xlink:href=\"#DejaVuSans-2e\"/>\n       <use x=\"95.410156\" xlink:href=\"#DejaVuSans-30\"/>\n      </g>\n     </g>\n    </g>\n    <g id=\"ytick_2\">\n     <g id=\"line2d_10\">\n      <g>\n       <use style=\"stroke:#000000;stroke-width:0.8;\" x=\"43.78125\" xlink:href=\"#m88abcda873\" y=\"175.726491\"/>\n      </g>\n     </g>\n     <g id=\"text_11\">\n      <!-- 2.5 -->\n      <g transform=\"translate(20.878125 179.52571)scale(0.1 -0.1)\">\n       <use xlink:href=\"#DejaVuSans-32\"/>\n       <use x=\"63.623047\" xlink:href=\"#DejaVuSans-2e\"/>\n       <use x=\"95.410156\" xlink:href=\"#DejaVuSans-35\"/>\n      </g>\n     </g>\n    </g>\n    <g id=\"ytick_3\">\n     <g id=\"line2d_11\">\n      <g>\n       <use style=\"stroke:#000000;stroke-width:0.8;\" x=\"43.78125\" xlink:href=\"#m88abcda873\" y=\"134.544673\"/>\n      </g>\n     </g>\n     <g id=\"text_12\">\n      <!-- 3.0 -->\n      <g transform=\"translate(20.878125 138.343892)scale(0.1 -0.1)\">\n       <defs>\n        <path d=\"M 2597 2516 \nQ 3050 2419 3304 2112 \nQ 3559 1806 3559 1356 \nQ 3559 666 3084 287 \nQ 2609 -91 1734 -91 \nQ 1441 -91 1130 -33 \nQ 819 25 488 141 \nL 488 750 \nQ 750 597 1062 519 \nQ 1375 441 1716 441 \nQ 2309 441 2620 675 \nQ 2931 909 2931 1356 \nQ 2931 1769 2642 2001 \nQ 2353 2234 1838 2234 \nL 1294 2234 \nL 1294 2753 \nL 1863 2753 \nQ 2328 2753 2575 2939 \nQ 2822 3125 2822 3475 \nQ 2822 3834 2567 4026 \nQ 2313 4219 1838 4219 \nQ 1578 4219 1281 4162 \nQ 984 4106 628 3988 \nL 628 4550 \nQ 988 4650 1302 4700 \nQ 1616 4750 1894 4750 \nQ 2613 4750 3031 4423 \nQ 3450 4097 3450 3541 \nQ 3450 3153 3228 2886 \nQ 3006 2619 2597 2516 \nz\n\" id=\"DejaVuSans-33\" transform=\"scale(0.015625)\"/>\n       </defs>\n       <use xlink:href=\"#DejaVuSans-33\"/>\n       <use x=\"63.623047\" xlink:href=\"#DejaVuSans-2e\"/>\n       <use x=\"95.410156\" xlink:href=\"#DejaVuSans-30\"/>\n      </g>\n     </g>\n    </g>\n    <g id=\"ytick_4\">\n     <g id=\"line2d_12\">\n      <g>\n       <use style=\"stroke:#000000;stroke-width:0.8;\" x=\"43.78125\" xlink:href=\"#m88abcda873\" y=\"93.362855\"/>\n      </g>\n     </g>\n     <g id=\"text_13\">\n      <!-- 3.5 -->\n      <g transform=\"translate(20.878125 97.162074)scale(0.1 -0.1)\">\n       <use xlink:href=\"#DejaVuSans-33\"/>\n       <use x=\"63.623047\" xlink:href=\"#DejaVuSans-2e\"/>\n       <use x=\"95.410156\" xlink:href=\"#DejaVuSans-35\"/>\n      </g>\n     </g>\n    </g>\n    <g id=\"ytick_5\">\n     <g id=\"line2d_13\">\n      <g>\n       <use style=\"stroke:#000000;stroke-width:0.8;\" x=\"43.78125\" xlink:href=\"#m88abcda873\" y=\"52.181037\"/>\n      </g>\n     </g>\n     <g id=\"text_14\">\n      <!-- 4.0 -->\n      <g transform=\"translate(20.878125 55.980256)scale(0.1 -0.1)\">\n       <use xlink:href=\"#DejaVuSans-34\"/>\n       <use x=\"63.623047\" xlink:href=\"#DejaVuSans-2e\"/>\n       <use x=\"95.410156\" xlink:href=\"#DejaVuSans-30\"/>\n      </g>\n     </g>\n    </g>\n    <g id=\"ytick_6\">\n     <g id=\"line2d_14\">\n      <g>\n       <use style=\"stroke:#000000;stroke-width:0.8;\" x=\"43.78125\" xlink:href=\"#m88abcda873\" y=\"10.999219\"/>\n      </g>\n     </g>\n     <g id=\"text_15\">\n      <!-- 4.5 -->\n      <g transform=\"translate(20.878125 14.798437)scale(0.1 -0.1)\">\n       <use xlink:href=\"#DejaVuSans-34\"/>\n       <use x=\"63.623047\" xlink:href=\"#DejaVuSans-2e\"/>\n       <use x=\"95.410156\" xlink:href=\"#DejaVuSans-35\"/>\n      </g>\n     </g>\n    </g>\n    <g id=\"text_16\">\n     <!-- SepalWidth -->\n     <g transform=\"translate(14.798438 146.473509)rotate(-90)scale(0.1 -0.1)\">\n      <defs>\n       <path d=\"M 213 4666 \nL 850 4666 \nL 1831 722 \nL 2809 4666 \nL 3519 4666 \nL 4500 722 \nL 5478 4666 \nL 6119 4666 \nL 4947 0 \nL 4153 0 \nL 3169 4050 \nL 2175 0 \nL 1381 0 \nL 213 4666 \nz\n\" id=\"DejaVuSans-57\" transform=\"scale(0.015625)\"/>\n       <path d=\"M 603 3500 \nL 1178 3500 \nL 1178 0 \nL 603 0 \nL 603 3500 \nz\nM 603 4863 \nL 1178 4863 \nL 1178 4134 \nL 603 4134 \nL 603 4863 \nz\n\" id=\"DejaVuSans-69\" transform=\"scale(0.015625)\"/>\n       <path d=\"M 2906 2969 \nL 2906 4863 \nL 3481 4863 \nL 3481 0 \nL 2906 0 \nL 2906 525 \nQ 2725 213 2448 61 \nQ 2172 -91 1784 -91 \nQ 1150 -91 751 415 \nQ 353 922 353 1747 \nQ 353 2572 751 3078 \nQ 1150 3584 1784 3584 \nQ 2172 3584 2448 3432 \nQ 2725 3281 2906 2969 \nz\nM 947 1747 \nQ 947 1113 1208 752 \nQ 1469 391 1925 391 \nQ 2381 391 2643 752 \nQ 2906 1113 2906 1747 \nQ 2906 2381 2643 2742 \nQ 2381 3103 1925 3103 \nQ 1469 3103 1208 2742 \nQ 947 2381 947 1747 \nz\n\" id=\"DejaVuSans-64\" transform=\"scale(0.015625)\"/>\n      </defs>\n      <use xlink:href=\"#DejaVuSans-53\"/>\n      <use x=\"63.476562\" xlink:href=\"#DejaVuSans-65\"/>\n      <use x=\"125\" xlink:href=\"#DejaVuSans-70\"/>\n      <use x=\"188.476562\" xlink:href=\"#DejaVuSans-61\"/>\n      <use x=\"249.755859\" xlink:href=\"#DejaVuSans-6c\"/>\n      <use x=\"277.539062\" xlink:href=\"#DejaVuSans-57\"/>\n      <use x=\"374.166016\" xlink:href=\"#DejaVuSans-69\"/>\n      <use x=\"401.949219\" xlink:href=\"#DejaVuSans-64\"/>\n      <use x=\"465.425781\" xlink:href=\"#DejaVuSans-74\"/>\n      <use x=\"504.634766\" xlink:href=\"#DejaVuSans-68\"/>\n     </g>\n    </g>\n   </g>\n   <g id=\"patch_3\">\n    <path d=\"M 43.78125 226.791946 \nL 43.78125 9.351946 \n\" style=\"fill:none;stroke:#000000;stroke-linecap:square;stroke-linejoin:miter;stroke-width:0.8;\"/>\n   </g>\n   <g id=\"patch_4\">\n    <path d=\"M 378.58125 226.791946 \nL 378.58125 9.351946 \n\" style=\"fill:none;stroke:#000000;stroke-linecap:square;stroke-linejoin:miter;stroke-width:0.8;\"/>\n   </g>\n   <g id=\"patch_5\">\n    <path d=\"M 43.78125 226.791946 \nL 378.58125 226.791946 \n\" style=\"fill:none;stroke:#000000;stroke-linecap:square;stroke-linejoin:miter;stroke-width:0.8;\"/>\n   </g>\n   <g id=\"patch_6\">\n    <path d=\"M 43.78125 9.351946 \nL 378.58125 9.351946 \n\" style=\"fill:none;stroke:#000000;stroke-linecap:square;stroke-linejoin:miter;stroke-width:0.8;\"/>\n   </g>\n   <g id=\"legend_1\">\n    <g id=\"patch_7\">\n     <path d=\"M 272.392188 61.386321 \nL 371.58125 61.386321 \nQ 373.58125 61.386321 373.58125 59.386321 \nL 373.58125 16.351946 \nQ 373.58125 14.351946 371.58125 14.351946 \nL 272.392188 14.351946 \nQ 270.392188 14.351946 270.392188 16.351946 \nL 270.392188 59.386321 \nQ 270.392188 61.386321 272.392188 61.386321 \nz\n\" style=\"fill:#ffffff;opacity:0.8;stroke:#cccccc;stroke-linejoin:miter;\"/>\n    </g>\n    <g id=\"PathCollection_4\">\n     <g>\n      <use style=\"fill:#00008b;stroke:#00008b;\" x=\"284.392188\" xlink:href=\"#m68c95ab2e0\" y=\"23.325384\"/>\n     </g>\n    </g>\n    <g id=\"text_17\">\n     <!-- Iris-setosa -->\n     <g transform=\"translate(302.392188 25.950384)scale(0.1 -0.1)\">\n      <defs>\n       <path d=\"M 628 4666 \nL 1259 4666 \nL 1259 0 \nL 628 0 \nL 628 4666 \nz\n\" id=\"DejaVuSans-49\" transform=\"scale(0.015625)\"/>\n       <path d=\"M 2631 2963 \nQ 2534 3019 2420 3045 \nQ 2306 3072 2169 3072 \nQ 1681 3072 1420 2755 \nQ 1159 2438 1159 1844 \nL 1159 0 \nL 581 0 \nL 581 3500 \nL 1159 3500 \nL 1159 2956 \nQ 1341 3275 1631 3429 \nQ 1922 3584 2338 3584 \nQ 2397 3584 2469 3576 \nQ 2541 3569 2628 3553 \nL 2631 2963 \nz\n\" id=\"DejaVuSans-72\" transform=\"scale(0.015625)\"/>\n       <path d=\"M 2834 3397 \nL 2834 2853 \nQ 2591 2978 2328 3040 \nQ 2066 3103 1784 3103 \nQ 1356 3103 1142 2972 \nQ 928 2841 928 2578 \nQ 928 2378 1081 2264 \nQ 1234 2150 1697 2047 \nL 1894 2003 \nQ 2506 1872 2764 1633 \nQ 3022 1394 3022 966 \nQ 3022 478 2636 193 \nQ 2250 -91 1575 -91 \nQ 1294 -91 989 -36 \nQ 684 19 347 128 \nL 347 722 \nQ 666 556 975 473 \nQ 1284 391 1588 391 \nQ 1994 391 2212 530 \nQ 2431 669 2431 922 \nQ 2431 1156 2273 1281 \nQ 2116 1406 1581 1522 \nL 1381 1569 \nQ 847 1681 609 1914 \nQ 372 2147 372 2553 \nQ 372 3047 722 3315 \nQ 1072 3584 1716 3584 \nQ 2034 3584 2315 3537 \nQ 2597 3491 2834 3397 \nz\n\" id=\"DejaVuSans-73\" transform=\"scale(0.015625)\"/>\n       <path d=\"M 313 2009 \nL 1997 2009 \nL 1997 1497 \nL 313 1497 \nL 313 2009 \nz\n\" id=\"DejaVuSans-2d\" transform=\"scale(0.015625)\"/>\n       <path d=\"M 1959 3097 \nQ 1497 3097 1228 2736 \nQ 959 2375 959 1747 \nQ 959 1119 1226 758 \nQ 1494 397 1959 397 \nQ 2419 397 2687 759 \nQ 2956 1122 2956 1747 \nQ 2956 2369 2687 2733 \nQ 2419 3097 1959 3097 \nz\nM 1959 3584 \nQ 2709 3584 3137 3096 \nQ 3566 2609 3566 1747 \nQ 3566 888 3137 398 \nQ 2709 -91 1959 -91 \nQ 1206 -91 779 398 \nQ 353 888 353 1747 \nQ 353 2609 779 3096 \nQ 1206 3584 1959 3584 \nz\n\" id=\"DejaVuSans-6f\" transform=\"scale(0.015625)\"/>\n      </defs>\n      <use xlink:href=\"#DejaVuSans-49\"/>\n      <use x=\"29.492188\" xlink:href=\"#DejaVuSans-72\"/>\n      <use x=\"70.605469\" xlink:href=\"#DejaVuSans-69\"/>\n      <use x=\"98.388672\" xlink:href=\"#DejaVuSans-73\"/>\n      <use x=\"150.488281\" xlink:href=\"#DejaVuSans-2d\"/>\n      <use x=\"186.572266\" xlink:href=\"#DejaVuSans-73\"/>\n      <use x=\"238.671875\" xlink:href=\"#DejaVuSans-65\"/>\n      <use x=\"300.195312\" xlink:href=\"#DejaVuSans-74\"/>\n      <use x=\"339.404297\" xlink:href=\"#DejaVuSans-6f\"/>\n      <use x=\"400.585938\" xlink:href=\"#DejaVuSans-73\"/>\n      <use x=\"452.685547\" xlink:href=\"#DejaVuSans-61\"/>\n     </g>\n    </g>\n    <g id=\"PathCollection_5\">\n     <g>\n      <use style=\"fill:#006400;stroke:#006400;\" x=\"284.392188\" xlink:href=\"#m7ea869e216\" y=\"38.003509\"/>\n     </g>\n    </g>\n    <g id=\"text_18\">\n     <!-- Iris-versicolor -->\n     <g transform=\"translate(302.392188 40.628509)scale(0.1 -0.1)\">\n      <defs>\n       <path d=\"M 191 3500 \nL 800 3500 \nL 1894 563 \nL 2988 3500 \nL 3597 3500 \nL 2284 0 \nL 1503 0 \nL 191 3500 \nz\n\" id=\"DejaVuSans-76\" transform=\"scale(0.015625)\"/>\n       <path d=\"M 3122 3366 \nL 3122 2828 \nQ 2878 2963 2633 3030 \nQ 2388 3097 2138 3097 \nQ 1578 3097 1268 2742 \nQ 959 2388 959 1747 \nQ 959 1106 1268 751 \nQ 1578 397 2138 397 \nQ 2388 397 2633 464 \nQ 2878 531 3122 666 \nL 3122 134 \nQ 2881 22 2623 -34 \nQ 2366 -91 2075 -91 \nQ 1284 -91 818 406 \nQ 353 903 353 1747 \nQ 353 2603 823 3093 \nQ 1294 3584 2113 3584 \nQ 2378 3584 2631 3529 \nQ 2884 3475 3122 3366 \nz\n\" id=\"DejaVuSans-63\" transform=\"scale(0.015625)\"/>\n      </defs>\n      <use xlink:href=\"#DejaVuSans-49\"/>\n      <use x=\"29.492188\" xlink:href=\"#DejaVuSans-72\"/>\n      <use x=\"70.605469\" xlink:href=\"#DejaVuSans-69\"/>\n      <use x=\"98.388672\" xlink:href=\"#DejaVuSans-73\"/>\n      <use x=\"150.488281\" xlink:href=\"#DejaVuSans-2d\"/>\n      <use x=\"183.947266\" xlink:href=\"#DejaVuSans-76\"/>\n      <use x=\"243.126953\" xlink:href=\"#DejaVuSans-65\"/>\n      <use x=\"304.650391\" xlink:href=\"#DejaVuSans-72\"/>\n      <use x=\"345.763672\" xlink:href=\"#DejaVuSans-73\"/>\n      <use x=\"397.863281\" xlink:href=\"#DejaVuSans-69\"/>\n      <use x=\"425.646484\" xlink:href=\"#DejaVuSans-63\"/>\n      <use x=\"480.626953\" xlink:href=\"#DejaVuSans-6f\"/>\n      <use x=\"541.808594\" xlink:href=\"#DejaVuSans-6c\"/>\n      <use x=\"569.591797\" xlink:href=\"#DejaVuSans-6f\"/>\n      <use x=\"630.773438\" xlink:href=\"#DejaVuSans-72\"/>\n     </g>\n    </g>\n    <g id=\"PathCollection_6\">\n     <g>\n      <use style=\"fill:#8b0000;stroke:#8b0000;\" x=\"284.392188\" xlink:href=\"#m72bd8014c5\" y=\"52.681634\"/>\n     </g>\n    </g>\n    <g id=\"text_19\">\n     <!-- Iris-virginica -->\n     <g transform=\"translate(302.392188 55.306634)scale(0.1 -0.1)\">\n      <use xlink:href=\"#DejaVuSans-49\"/>\n      <use x=\"29.492188\" xlink:href=\"#DejaVuSans-72\"/>\n      <use x=\"70.605469\" xlink:href=\"#DejaVuSans-69\"/>\n      <use x=\"98.388672\" xlink:href=\"#DejaVuSans-73\"/>\n      <use x=\"150.488281\" xlink:href=\"#DejaVuSans-2d\"/>\n      <use x=\"183.947266\" xlink:href=\"#DejaVuSans-76\"/>\n      <use x=\"243.126953\" xlink:href=\"#DejaVuSans-69\"/>\n      <use x=\"270.910156\" xlink:href=\"#DejaVuSans-72\"/>\n      <use x=\"310.273438\" xlink:href=\"#DejaVuSans-67\"/>\n      <use x=\"373.75\" xlink:href=\"#DejaVuSans-69\"/>\n      <use x=\"401.533203\" xlink:href=\"#DejaVuSans-6e\"/>\n      <use x=\"464.912109\" xlink:href=\"#DejaVuSans-69\"/>\n      <use x=\"492.695312\" xlink:href=\"#DejaVuSans-63\"/>\n      <use x=\"547.675781\" xlink:href=\"#DejaVuSans-61\"/>\n     </g>\n    </g>\n   </g>\n  </g>\n </g>\n <defs>\n  <clipPath id=\"p1d5a238d11\">\n   <rect height=\"217.44\" width=\"334.8\" x=\"43.78125\" y=\"9.351946\"/>\n  </clipPath>\n </defs>\n</svg>\n",
      "image/png": "[encoded data removed]"
     },
     "metadata": {
      "needs_background": "light"
     }
    }
   ],
   "metadata": {}
  },
  {
   "cell_type": "markdown",
   "source": [
    "## 4. Reduce and partition the data\n",
    "\n",
    "We are going to use a supervised approach so we will need to partition the data set into a training set and a test set. sklearn provides an easy way to do this. You can read more here: https://scikit-learn.org/stable/modules/cross_validation.html#cross-validation"
   ],
   "metadata": {}
  },
  {
   "cell_type": "code",
   "execution_count": 18,
   "source": [
    "from sklearn.model_selection import train_test_split\n",
    "X_train, X_test, y_train, y_test = train_test_split(np_data, np_target, test_size=0.4, random_state=0)"
   ],
   "outputs": [],
   "metadata": {}
  },
  {
   "cell_type": "code",
   "execution_count": 19,
   "source": [
    "X_train[:5,:]"
   ],
   "outputs": [
    {
     "output_type": "execute_result",
     "data": {
      "text/plain": [
       "array([[6. , 3.4, 4.5, 1.6],\n",
       "       [4.8, 3.1, 1.6, 0.2],\n",
       "       [5.8, 2.7, 5.1, 1.9],\n",
       "       [5.6, 2.7, 4.2, 1.3],\n",
       "       [5.6, 2.9, 3.6, 1.3]])"
      ]
     },
     "metadata": {},
     "execution_count": 19
    }
   ],
   "metadata": {}
  },
  {
   "cell_type": "code",
   "execution_count": 20,
   "source": [
    "y_train[:5]"
   ],
   "outputs": [
    {
     "output_type": "execute_result",
     "data": {
      "text/plain": [
       "array([1, 0, 2, 1, 1])"
      ]
     },
     "metadata": {},
     "execution_count": 20
    }
   ],
   "metadata": {}
  },
  {
   "cell_type": "code",
   "execution_count": 21,
   "source": [
    "X_train.shape"
   ],
   "outputs": [
    {
     "output_type": "execute_result",
     "data": {
      "text/plain": [
       "(90, 4)"
      ]
     },
     "metadata": {},
     "execution_count": 21
    }
   ],
   "metadata": {}
  },
  {
   "cell_type": "code",
   "execution_count": 22,
   "source": [
    "X_test.shape"
   ],
   "outputs": [
    {
     "output_type": "execute_result",
     "data": {
      "text/plain": [
       "(60, 4)"
      ]
     },
     "metadata": {},
     "execution_count": 22
    }
   ],
   "metadata": {}
  },
  {
   "cell_type": "markdown",
   "source": [
    "## 5. Determine the data mining task and technique\n",
    "\n",
    "We are going to use a statistical classifier. sklearn provides several classifiers. We will try the logistic regression classifier. This is one of the most common classifiers and good enough for this data set. You can read more about sklearn's classification models here: https://scikit-learn.org/stable/supervised_learning.html"
   ],
   "metadata": {}
  },
  {
   "cell_type": "code",
   "execution_count": 23,
   "source": [
    "from sklearn.linear_model import LogisticRegression"
   ],
   "outputs": [],
   "metadata": {}
  },
  {
   "cell_type": "markdown",
   "source": [
    "## 6. Iterative implementation and parameter tuning"
   ],
   "metadata": {}
  },
  {
   "cell_type": "markdown",
   "source": [
    "In this section we would apply various methods to obtain the best of the statistical classifier. This is beyond the scope of this unit but if you want to know more, read sklearn's documentation: https://scikit-learn.org/stable/model_selection.html\n",
    "\n",
    "Here we will just train the system using the default settings, and hope for the best."
   ],
   "metadata": {}
  },
  {
   "cell_type": "code",
   "execution_count": 24,
   "source": [
    "lr = LogisticRegression()\n",
    "lr.fit(X_train, y_train)"
   ],
   "outputs": [
    {
     "output_type": "execute_result",
     "data": {
      "text/plain": [
       "LogisticRegression()"
      ]
     },
     "metadata": {},
     "execution_count": 24
    }
   ],
   "metadata": {}
  },
  {
   "cell_type": "markdown",
   "source": [
    "## 7. Assess the results; compare models\n",
    "Let's evaluate the system by checking the results using the test set."
   ],
   "metadata": {}
  },
  {
   "cell_type": "code",
   "execution_count": 25,
   "source": [
    "test_predictions = lr.predict(X_test)"
   ],
   "outputs": [],
   "metadata": {}
  },
  {
   "cell_type": "code",
   "execution_count": 26,
   "source": [
    "from sklearn.metrics import accuracy_score\n",
    "print(\"Accuracy:\", accuracy_score(y_test, test_predictions))"
   ],
   "outputs": [
    {
     "output_type": "stream",
     "name": "stdout",
     "text": [
      "Accuracy: 0.9166666666666666\n"
     ]
    }
   ],
   "metadata": {}
  },
  {
   "cell_type": "markdown",
   "source": [
    "You can see that our simple classifier using the default settings obtained over 90% accuracy. After all this data set is very easy. Let's build a confusion matrix to determine the most common kinds of errors."
   ],
   "metadata": {}
  },
  {
   "cell_type": "code",
   "execution_count": 27,
   "source": [
    "from sklearn.metrics import confusion_matrix\n",
    "confusion_matrix(y_test, test_predictions)"
   ],
   "outputs": [
    {
     "output_type": "execute_result",
     "data": {
      "text/plain": [
       "array([[16,  0,  0],\n",
       "       [ 0, 22,  1],\n",
       "       [ 0,  4, 17]])"
      ]
     },
     "metadata": {},
     "execution_count": 27
    }
   ],
   "metadata": {}
  },
  {
   "cell_type": "markdown",
   "source": [
    "The confusin matrix is saying that there are 5 cases where  the label should have been 1 (iris versicolor) but was predicted as 2 (iris virginica). From the scatterplot above we knew that the system would predict class 0 (iris setosa) without problems."
   ],
   "metadata": {}
  },
  {
   "cell_type": "markdown",
   "source": [
    "## 8. Deploy the best model\n",
    "\n",
    "Let's save the model so that it can be shipped to our customers. The customers should not need to re-train the system. sklearn recommends to use `joblib` to save the models into a file https://scikit-learn.org/stable/modules/model_persistence.html. However, in this example we will use `pickle`:"
   ],
   "metadata": {}
  },
  {
   "cell_type": "code",
   "execution_count": 28,
   "source": [
    "import pickle\n",
    "with open('iris_model.pickle', 'wb') as f:\n",
    "    pickle.dump(lr, f)"
   ],
   "outputs": [],
   "metadata": {}
  },
  {
   "cell_type": "markdown",
   "source": [
    "Now we can send the file to the customer, who can just load it and apply it directly to their data:"
   ],
   "metadata": {}
  },
  {
   "cell_type": "code",
   "execution_count": 29,
   "source": [
    "with open('iris_model.pickle', 'rb') as f:\n",
    "    customer_model = pickle.load(f)"
   ],
   "outputs": [],
   "metadata": {}
  },
  {
   "cell_type": "code",
   "execution_count": 30,
   "source": [
    "customer_model.predict(X_test)"
   ],
   "outputs": [
    {
     "output_type": "execute_result",
     "data": {
      "text/plain": [
       "array([2, 1, 0, 2, 0, 2, 0, 1, 1, 1, 2, 1, 1, 1, 1, 0, 1, 1, 0, 0, 2, 1,\n",
       "       0, 0, 1, 0, 0, 1, 1, 0, 2, 1, 0, 2, 2, 1, 0, 2, 1, 1, 2, 0, 2, 0,\n",
       "       0, 1, 2, 2, 1, 2, 1, 2, 1, 1, 2, 1, 1, 2, 1, 2])"
      ]
     },
     "metadata": {},
     "execution_count": 30
    }
   ],
   "metadata": {}
  },
  {
   "cell_type": "code",
   "execution_count": null,
   "source": [],
   "outputs": [],
   "metadata": {}
  }
 ],
 "metadata": {
  "kernelspec": {
   "name": "python3",
   "display_name": "Python 3.8.10 64-bit ('comp8210': conda)"
  },
  "language_info": {
   "codemirror_mode": {
    "name": "ipython",
    "version": 3
   },
   "file_extension": ".py",
   "mimetype": "text/x-python",
   "name": "python",
   "nbconvert_exporter": "python",
   "pygments_lexer": "ipython3",
   "version": "3.8.10"
  },
  "interpreter": {
   "hash": "d2c991cd8058d6fe627121562c564e98ea33bf5086f4acaaf846550bab1579dd"
  }
 },
 "nbformat": 4,
 "nbformat_minor": 2
}